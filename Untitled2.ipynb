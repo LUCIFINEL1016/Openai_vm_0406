{
 "cells": [
  {
   "cell_type": "code",
   "execution_count": 1,
   "id": "087d795a-6f26-4823-9e1b-4b4fe3281aa9",
   "metadata": {},
   "outputs": [
    {
     "name": "stdout",
     "output_type": "stream",
     "text": [
      "✅ 登入成功\n",
      "CST: 35b20f2f514fec2ae0314c75dea65b059ebd40ef73608ce10aa3e823edac6dCC01115\n",
      "TOKEN: 8482db08aa28931664df1c91fe8bd2bb2f30e14ccaedb70bf4cac9c3e41292CD01115\n"
     ]
    }
   ],
   "source": [
    "import requests\n",
    "import json\n",
    "\n",
    "# 請填入您的資料\n",
    "API_KEY = \"33012a1647711990919caf823cfaa88765bec64e\"  # 請使用您的 API Key\n",
    "USERNAME = \"LUCIFINIL\"  # 請填寫您的 IG 帳戶名稱\n",
    "PASSWORD = \"S22334455s\"  # 請填寫您的 IG 密碼\n",
    "\n",
    "# 登錄 IG\n",
    "def login_ig(api_key, username, password):\n",
    "    url = \"https://api.ig.com/gateway/deal/session\"\n",
    "    headers = {\n",
    "        \"X-IG-API-KEY\": api_key,\n",
    "        \"Content-Type\": \"application/json\",\n",
    "        \"Accept\": \"application/json\"\n",
    "    }\n",
    "    payload = {\n",
    "        \"identifier\": username,\n",
    "        \"password\": password\n",
    "    }\n",
    "\n",
    "    response = requests.post(url, headers=headers, json=payload)\n",
    "    \n",
    "    if response.status_code == 200:\n",
    "        cst = response.headers.get(\"CST\")\n",
    "        x_token = response.headers.get(\"X-SECURITY-TOKEN\")\n",
    "        print(\"✅ 登入成功\")\n",
    "        print(\"CST:\", cst)\n",
    "        print(\"TOKEN:\", x_token)\n",
    "        return cst, x_token\n",
    "    else:\n",
    "        print(\"❌ 登入失敗:\", response.status_code, response.text)\n",
    "        return None, None\n",
    "\n",
    "# 使用您的 API Key 和帳號登錄\n",
    "cst, x_token = login_ig(API_KEY, USERNAME, PASSWORD)\n"
   ]
  },
  {
   "cell_type": "code",
   "execution_count": null,
   "id": "dd341fb1-12f5-4ffe-965e-24304174057d",
   "metadata": {},
   "outputs": [],
   "source": []
  }
 ],
 "metadata": {
  "kernelspec": {
   "display_name": "Python (openai_env)",
   "language": "python",
   "name": "openai_env"
  },
  "language_info": {
   "codemirror_mode": {
    "name": "ipython",
    "version": 3
   },
   "file_extension": ".py",
   "mimetype": "text/x-python",
   "name": "python",
   "nbconvert_exporter": "python",
   "pygments_lexer": "ipython3",
   "version": "3.9.21"
  }
 },
 "nbformat": 4,
 "nbformat_minor": 5
}
