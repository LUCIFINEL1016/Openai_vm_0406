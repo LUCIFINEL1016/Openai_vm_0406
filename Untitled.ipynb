{
 "cells": [
  {
   "cell_type": "code",
   "execution_count": 1,
   "id": "fc7a289b-8237-4798-a938-bac26cca468e",
   "metadata": {},
   "outputs": [],
   "source": [
    "import os\n",
    "import requests\n"
   ]
  },
  {
   "cell_type": "code",
   "execution_count": 2,
   "id": "34e79ab4-2973-4458-b15a-e24981c4662d",
   "metadata": {},
   "outputs": [],
   "source": [
    "os.environ[\"SIM_IG_API_KEY\"] = \"2181c539a32c9f60e1119673c96598eaf2be45e3\"\n",
    "os.environ[\"SIM_IG_USERNAME\"] = \"Lucifinel1016\"\n",
    "os.environ[\"SIM_IG_PASSWORD\"] = \"S06109811s\"\n"
   ]
  },
  {
   "cell_type": "code",
   "execution_count": 5,
   "id": "f11266d5-62b6-42f2-916c-42d6c6e2f2e0",
   "metadata": {},
   "outputs": [],
   "source": [
    "def ig_login():\n",
    "    url = \"https://demo-api.ig.com/gateway/deal/session\"\n",
    "    headers = {\n",
    "        \"X-IG-API-KEY\": os.getenv(\"SIM_IG_API_KEY\"),\n",
    "        \"Content-Type\": \"application/json; charset=UTF-8\",\n",
    "        \"Accept\": \"application/json; charset=UTF-8\",\n",
    "        \"Version\": \"2\"\n",
    "    }\n",
    "    payload = {\n",
    "        \"identifier\": os.getenv(\"SIM_IG_USERNAME\"),\n",
    "        \"password\": os.getenv(\"SIM_IG_PASSWORD\")\n",
    "    }\n",
    "    response = requests.post(url, headers=headers, json=payload)\n",
    "    if response.status_code == 200:\n",
    "        cst = response.headers.get(\"CST\")\n",
    "        token = response.headers.get(\"X-SECURITY-TOKEN\")\n",
    "        print(\"✅ 成功取得 CST / TOKEN\")\n",
    "        print(\"CST:\", cst)\n",
    "        print(\"TOKEN:\", token)\n",
    "        return cst, token\n",
    "    else:\n",
    "        print(\"❌ 登入失敗：\", response.text)\n",
    "        return None, None\n"
   ]
  },
  {
   "cell_type": "code",
   "execution_count": 4,
   "id": "96479f2c-3024-429e-a8b4-8c22fc5fb66e",
   "metadata": {},
   "outputs": [
    {
     "name": "stdout",
     "output_type": "stream",
     "text": [
      "❌ 登入失敗： {\"errorCode\":\"validation.null-not-allowed.authenticationRequest\"}\n"
     ]
    },
    {
     "data": {
      "text/plain": [
       "(None, None)"
      ]
     },
     "execution_count": 4,
     "metadata": {},
     "output_type": "execute_result"
    }
   ],
   "source": [
    "ig_login()\n"
   ]
  },
  {
   "cell_type": "code",
   "execution_count": 6,
   "id": "12f71da6-0879-43d1-8abb-d3d428eb2134",
   "metadata": {},
   "outputs": [
    {
     "name": "stdout",
     "output_type": "stream",
     "text": [
      "✅ 成功取得 CST / TOKEN\n",
      "CST: 1001f21f76a0aaa6225e8f163e171f85e17f6868d1154e0df1453380b69f25CC01111\n",
      "TOKEN: b125a1a36e70b1ac543a30da83ceb10d180748e77817895b8656ba486174ffCD01111\n"
     ]
    },
    {
     "data": {
      "text/plain": [
       "('1001f21f76a0aaa6225e8f163e171f85e17f6868d1154e0df1453380b69f25CC01111',\n",
       " 'b125a1a36e70b1ac543a30da83ceb10d180748e77817895b8656ba486174ffCD01111')"
      ]
     },
     "execution_count": 6,
     "metadata": {},
     "output_type": "execute_result"
    }
   ],
   "source": [
    "ig_login()"
   ]
  },
  {
   "cell_type": "code",
   "execution_count": 10,
   "id": "755d0ed0-6c56-456e-9b46-1a330e14eb86",
   "metadata": {},
   "outputs": [
    {
     "name": "stdout",
     "output_type": "stream",
     "text": [
      "❌ 掛單失敗，請檢查參數或登入狀態\n",
      "\n"
     ]
    }
   ],
   "source": [
    "# 📌 Step 2：自動掛單測試（以 GOLD CFD 測試為例）\n",
    "\n",
    "import json\n",
    "\n",
    "def place_order(epic, direction, size, level=None, stop_level=None, limit_level=None, expiry=\"DFB\", force_open=True):\n",
    "    url = \"https://demo-api.ig.com/gateway/deal/positions\"\n",
    "    headers = {\n",
    "        \"X-IG-API-KEY\": os.environ[\"SIM_IG_API_KEY\"],\n",
    "        \"CST\": os.environ[\"SIM_IG_CST\"],\n",
    "        \"X-SECURITY-TOKEN\": os.environ[\"SIM_IG_TOKEN\"],\n",
    "        \"Content-Type\": \"application/json; charset=UTF-8\",\n",
    "        \"Accept\": \"application/json; charset=UTF-8\",\n",
    "        \"Version\": \"2\"\n",
    "    }\n",
    "\n",
    "    payload = {\n",
    "        \"epic\": epic,\n",
    "        \"expiry\": expiry,\n",
    "        \"direction\": direction,\n",
    "        \"size\": size,\n",
    "        \"orderType\": \"MARKET\" if level is None else \"LIMIT\",\n",
    "        \"guaranteedStop\": False,\n",
    "        \"forceOpen\": force_open,\n",
    "        \"currencyCode\": \"USD\",\n",
    "        \"dealReference\": \"test-gold-order\"\n",
    "    }\n",
    "\n",
    "    if level:\n",
    "        payload[\"level\"] = level\n",
    "    if stop_level:\n",
    "        payload[\"stopLevel\"] = stop_level\n",
    "    if limit_level:\n",
    "        payload[\"limitLevel\"] = limit_level\n",
    "\n",
    "    response = requests.post(url, headers=headers, data=json.dumps(payload))\n",
    "\n",
    "    if response.status_code == 200:\n",
    "        print(\"✅ 成功送出掛單指令！\")\n",
    "        print(\"回傳結果：\", response.json())\n",
    "    else:\n",
    "        print(\"❌ 掛單失敗，請檢查參數或登入狀態\")\n",
    "        print(response.text)\n",
    "\n",
    "# 👉 測試掛單（以 GOLD CFD 為例）\n",
    "place_order(\n",
    "    epic=\"CS.D.CFDGOLD.CFDGC.IP\",  # IG 模擬平台的 GOLD CFD 代碼\n",
    "    direction=\"BUY\",\n",
    "    size=0.5,\n",
    "    stop_level=3,   # 止損約 $3（可視需求調整）\n",
    "    limit_level=5   # 止盈約 $5（可視需求調整）\n",
    ")\n"
   ]
  },
  {
   "cell_type": "code",
   "execution_count": 8,
   "id": "555d1671-a9ab-4699-bd86-76f3f0e14a95",
   "metadata": {},
   "outputs": [],
   "source": [
    "# ✅ 寫入最新登入的 CST / TOKEN\n",
    "os.environ[\"SIM_IG_CST\"] = \"1001f21f76a0aaa6225e8f163e171f85e17f6868d1154e0df1453380b69f25CC01111\"\n",
    "os.environ[\"SIM_IG_TOKEN\"] = \"b125a1a36e70b1ac543a30da83ceb10d180748e77817895b8656ba486174ffCD01111\"\n"
   ]
  },
  {
   "cell_type": "code",
   "execution_count": 9,
   "id": "f6340920-0882-4b53-86e9-941dbe03ebbd",
   "metadata": {},
   "outputs": [
    {
     "name": "stdout",
     "output_type": "stream",
     "text": [
      "❌ 掛單失敗，請檢查參數或登入狀態\n",
      "\n"
     ]
    }
   ],
   "source": [
    "place_order(\n",
    "    epic=\"CS.D.CFDGOLD.CFDGC.IP\",\n",
    "    direction=\"BUY\",\n",
    "    size=0.5,\n",
    "    stop_level=3,\n",
    "    limit_level=5\n",
    ")\n"
   ]
  },
  {
   "cell_type": "code",
   "execution_count": 12,
   "id": "dc0b8703-2f73-479c-b1f8-306ae134d2e2",
   "metadata": {},
   "outputs": [
    {
     "name": "stdout",
     "output_type": "stream",
     "text": [
      "❌ 登入失敗： {\"errorCode\":\"validation.null-not-allowed.authenticationRequest\"}\n"
     ]
    },
    {
     "data": {
      "text/plain": [
       "(None, None)"
      ]
     },
     "execution_count": 12,
     "metadata": {},
     "output_type": "execute_result"
    }
   ],
   "source": [
    "import os\n",
    "import requests\n",
    "\n",
    "def ig_login():\n",
    "    # 設定登入 API 路徑\n",
    "    url = \"https://demo-api.ig.com/gateway/deal/session\"\n",
    "\n",
    "    # 設定 headers，包括 API key、Content-Type 等\n",
    "    headers = {\n",
    "        \"X-IG-API-KEY\": os.environ[\"SIM_IG_API_KEY\"],\n",
    "        \"Content-Type\": \"application/json; charset=UTF-8\",\n",
    "        \"Accept\": \"application/json; charset=UTF-8\",\n",
    "        \"Version\": \"2\"\n",
    "    }\n",
    "\n",
    "    # 使用你的 IG 登入資料\n",
    "    auth = (os.getenv(\"SIM_IG_USERNAME\"), os.getenv(\"SIM_IG_PASSWORD\"))\n",
    "\n",
    "    # 發送登入請求\n",
    "    response = requests.post(url, headers=headers, auth=auth)\n",
    "\n",
    "    # 登入成功，取得 CST 和 TOKEN\n",
    "    if response.status_code == 200:\n",
    "        cst = response.headers.get(\"CST\")\n",
    "        token = response.headers.get(\"X-SECURITY-TOKEN\")\n",
    "        \n",
    "        # 儲存至環境變數\n",
    "        os.environ[\"SIM_IG_CST\"] = cst\n",
    "        os.environ[\"SIM_IG_TOKEN\"] = token\n",
    "        \n",
    "        print(\"✅ CST / TOKEN 取得成功！\")\n",
    "        print(f\"CST: {cst}\")\n",
    "        print(f\"TOKEN: {token}\")\n",
    "        return cst, token\n",
    "    else:\n",
    "        print(\"❌ 登入失敗：\", response.text)\n",
    "        return None, None\n",
    "ig_login()"
   ]
  },
  {
   "cell_type": "code",
   "execution_count": 13,
   "id": "89d806e8-1bdb-433f-9323-d9269e84157d",
   "metadata": {},
   "outputs": [
    {
     "name": "stdout",
     "output_type": "stream",
     "text": [
      "2181c539a32c9f60e1119673c96598eaf2be45e3\n",
      "Lucifinel1016\n",
      "S06109811s\n"
     ]
    }
   ],
   "source": [
    "print(os.getenv(\"SIM_IG_API_KEY\"))\n",
    "print(os.getenv(\"SIM_IG_USERNAME\"))\n",
    "print(os.getenv(\"SIM_IG_PASSWORD\"))\n"
   ]
  },
  {
   "cell_type": "code",
   "execution_count": 14,
   "id": "dc277316-293f-45ed-b93f-02088cbb8387",
   "metadata": {},
   "outputs": [
    {
     "ename": "NameError",
     "evalue": "name 'response' is not defined",
     "output_type": "error",
     "traceback": [
      "\u001b[0;31m---------------------------------------------------------------------------\u001b[0m",
      "\u001b[0;31mNameError\u001b[0m                                 Traceback (most recent call last)",
      "Cell \u001b[0;32mIn[14], line 1\u001b[0m\n\u001b[0;32m----> 1\u001b[0m \u001b[38;5;28mprint\u001b[39m(\u001b[43mresponse\u001b[49m\u001b[38;5;241m.\u001b[39mtext)  \u001b[38;5;66;03m# Output detailed error message from API\u001b[39;00m\n",
      "\u001b[0;31mNameError\u001b[0m: name 'response' is not defined"
     ]
    }
   ],
   "source": [
    "print(response.text)  # Output detailed error message from API\n"
   ]
  },
  {
   "cell_type": "code",
   "execution_count": 15,
   "id": "9a52967d-174d-46da-9abe-c250aa61e49e",
   "metadata": {},
   "outputs": [
    {
     "ename": "NameError",
     "evalue": "name 'response' is not defined",
     "output_type": "error",
     "traceback": [
      "\u001b[0;31m---------------------------------------------------------------------------\u001b[0m",
      "\u001b[0;31mNameError\u001b[0m                                 Traceback (most recent call last)",
      "Cell \u001b[0;32mIn[15], line 1\u001b[0m\n\u001b[0;32m----> 1\u001b[0m \u001b[38;5;28mprint\u001b[39m(\u001b[43mresponse\u001b[49m\u001b[38;5;241m.\u001b[39mstatus_code)\n\u001b[1;32m      2\u001b[0m \u001b[38;5;28mprint\u001b[39m(response\u001b[38;5;241m.\u001b[39mtext)\n",
      "\u001b[0;31mNameError\u001b[0m: name 'response' is not defined"
     ]
    }
   ],
   "source": [
    "print(response.status_code)\n",
    "print(response.text)\n"
   ]
  },
  {
   "cell_type": "code",
   "execution_count": 16,
   "id": "feeda585-1536-4ed2-a2f7-e1c219ee7da2",
   "metadata": {},
   "outputs": [],
   "source": [
    "def ig_login():\n",
    "    url = \"https://demo-api.ig.com/gateway/deal/session\"\n",
    "    headers = {\n",
    "        \"X-IG-API-KEY\": os.getenv(\"SIM_IG_API_KEY\"),\n",
    "        \"Content-Type\": \"application/json; charset=UTF-8\",\n",
    "        \"Accept\": \"application/json; charset=UTF-8\",\n",
    "        \"Version\": \"2\"\n",
    "    }\n",
    "\n",
    "    auth = (os.getenv(\"SIM_IG_USERNAME\"), os.getenv(\"SIM_IG_PASSWORD\"))\n",
    "    response = requests.post(url, headers=headers, auth=auth)\n",
    "\n",
    "    print(\"狀態碼：\", response.status_code)\n",
    "    print(\"回應內容：\", response.text)\n",
    "\n",
    "    if response.status_code == 200:\n",
    "        cst = response.headers.get(\"CST\")\n",
    "        token = response.headers.get(\"X-SECURITY-TOKEN\")\n",
    "        os.environ[\"SIM_IG_CST\"] = cst\n",
    "        os.environ[\"SIM_IG_TOKEN\"] = token\n",
    "        print(\"✅ CST / TOKEN 取得成功！\")\n",
    "        print(f\"CST: {cst}\")\n",
    "        print(f\"TOKEN: {token}\")\n",
    "        return cst, token\n",
    "    else:\n",
    "        print(\"❌ 登入失敗：\", response.text)\n",
    "        return None, None\n"
   ]
  },
  {
   "cell_type": "code",
   "execution_count": 17,
   "id": "2ac7d1e5-d655-4d72-9b92-b81db543986a",
   "metadata": {},
   "outputs": [
    {
     "name": "stdout",
     "output_type": "stream",
     "text": [
      "狀態碼： 400\n",
      "回應內容： {\"errorCode\":\"validation.null-not-allowed.authenticationRequest\"}\n",
      "❌ 登入失敗： {\"errorCode\":\"validation.null-not-allowed.authenticationRequest\"}\n"
     ]
    },
    {
     "data": {
      "text/plain": [
       "(None, None)"
      ]
     },
     "execution_count": 17,
     "metadata": {},
     "output_type": "execute_result"
    }
   ],
   "source": [
    "ig_login()\n"
   ]
  },
  {
   "cell_type": "code",
   "execution_count": 18,
   "id": "93c836dc-0c52-4f13-9314-b70429f3b327",
   "metadata": {},
   "outputs": [],
   "source": [
    "def ig_login():\n",
    "    url = \"https://demo-api.ig.com/gateway/deal/session\"\n",
    "    headers = {\n",
    "        \"X-IG-API-KEY\": os.getenv(\"SIM_IG_API_KEY\"),\n",
    "        \"Content-Type\": \"application/json; charset=UTF-8\",\n",
    "        \"Accept\": \"application/json; charset=UTF-8\",\n",
    "        \"Version\": \"2\"\n",
    "    }\n",
    "\n",
    "    payload = {\n",
    "        \"identifier\": os.getenv(\"SIM_IG_USERNAME\"),\n",
    "        \"password\": os.getenv(\"SIM_IG_PASSWORD\")\n",
    "    }\n",
    "\n",
    "    response = requests.post(url, headers=headers, json=payload)\n",
    "\n",
    "    print(\"狀態碼：\", response.status_code)\n",
    "    print(\"回應內容：\", response.text)\n",
    "\n",
    "    if response.status_code == 200:\n",
    "        cst = response.headers.get(\"CST\")\n",
    "        token = response.headers.get(\"X-SECURITY-TOKEN\")\n",
    "        os.environ[\"SIM_IG_CST\"] = cst\n",
    "        os.environ[\"SIM_IG_TOKEN\"] = token\n",
    "        print(\"✅ CST / TOKEN 取得成功！\")\n",
    "        print(f\"CST: {cst}\")\n",
    "        print(f\"TOKEN: {token}\")\n",
    "        return cst, token\n",
    "    else:\n",
    "        print(\"❌ 登入失敗：\", response.text)\n",
    "        return None, None\n"
   ]
  },
  {
   "cell_type": "code",
   "execution_count": 19,
   "id": "fde2df55-7c1a-4249-b110-46499f729668",
   "metadata": {},
   "outputs": [
    {
     "name": "stdout",
     "output_type": "stream",
     "text": [
      "狀態碼： 200\n",
      "回應內容： {\"accountType\":\"CFD\",\"accountInfo\":{\"balance\":100836.44,\"deposit\":0.0,\"profitLoss\":0.0,\"available\":100836.44},\"currencyIsoCode\":\"USD\",\"currencySymbol\":\"$\",\"currentAccountId\":\"Z4BV5B\",\"lightstreamerEndpoint\":\"https://demo-apd.marketdatasystems.com\",\"accounts\":[{\"accountId\":\"Z4BV5B\",\"accountName\":\"OPENAI-DEMO\",\"preferred\":true,\"accountType\":\"CFD\"}],\"clientId\":\"102963870\",\"timezoneOffset\":8,\"hasActiveDemoAccounts\":true,\"hasActiveLiveAccounts\":true,\"trailingStopsEnabled\":false,\"reroutingEnvironment\":null,\"dealingEnabled\":true}\n",
      "✅ CST / TOKEN 取得成功！\n",
      "CST: c91d8dc4605f8fde0a9faaa8e17feb8a5c18bf5ac0e4840048df0d5d2ded13CC01113\n",
      "TOKEN: 798d63568a251d515d81c0d0d770c74d2a33a5012e66ce67afb43f4628f4bfCD01115\n"
     ]
    },
    {
     "data": {
      "text/plain": [
       "('c91d8dc4605f8fde0a9faaa8e17feb8a5c18bf5ac0e4840048df0d5d2ded13CC01113',\n",
       " '798d63568a251d515d81c0d0d770c74d2a33a5012e66ce67afb43f4628f4bfCD01115')"
      ]
     },
     "execution_count": 19,
     "metadata": {},
     "output_type": "execute_result"
    }
   ],
   "source": [
    "ig_login()\n"
   ]
  },
  {
   "cell_type": "code",
   "execution_count": 20,
   "id": "38318c37-7849-4862-8f1b-30c53edc0e78",
   "metadata": {},
   "outputs": [
    {
     "name": "stdout",
     "output_type": "stream",
     "text": [
      "❌ 掛單失敗\n",
      "回傳結果： 405 \n"
     ]
    }
   ],
   "source": [
    "import json\n",
    "\n",
    "def place_order(epic, direction, size, level=None, stop_level=None, limit_level=None, expiry=\"DFB\", force_open=True):\n",
    "    url = \"https://demo-api.ig.com/gateway/deal/positions\"\n",
    "    headers = {\n",
    "        \"X-IG-API-KEY\": os.getenv(\"SIM_IG_API_KEY\"),\n",
    "        \"CST\": os.getenv(\"SIM_IG_CST\"),\n",
    "        \"X-SECURITY-TOKEN\": os.getenv(\"SIM_IG_TOKEN\"),\n",
    "        \"Content-Type\": \"application/json; charset=UTF-8\",\n",
    "        \"Accept\": \"application/json; charset=UTF-8\",\n",
    "        \"Version\": \"2\"\n",
    "    }\n",
    "\n",
    "    payload = {\n",
    "        \"epic\": epic,\n",
    "        \"expiry\": expiry,\n",
    "        \"direction\": direction,\n",
    "        \"size\": size,\n",
    "        \"orderType\": \"MARKET\" if level is None else \"LIMIT\",\n",
    "        \"guaranteedStop\": False,\n",
    "        \"forceOpen\": force_open,\n",
    "        \"currencyCode\": \"USD\",\n",
    "        \"dealReference\": \"test-gold-order\"\n",
    "    }\n",
    "\n",
    "    if level:\n",
    "        payload[\"level\"] = level\n",
    "    if stop_level:\n",
    "        payload[\"stopLevel\"] = stop_level\n",
    "    if limit_level:\n",
    "        payload[\"limitLevel\"] = limit_level\n",
    "\n",
    "    response = requests.post(url, headers=headers, data=json.dumps(payload))\n",
    "\n",
    "    if response.status_code == 200:\n",
    "        print(\"✅ 成功送出掛單指令！\")\n",
    "        print(\"回傳結果：\", response.json())\n",
    "    else:\n",
    "        print(\"❌ 掛單失敗\")\n",
    "        print(\"回傳結果：\", response.status_code, response.text)\n",
    "\n",
    "# 🚀 測試掛單（以 GOLD CFD 為例）\n",
    "place_order(\n",
    "    epic=\"CS.D.CFDGOLD.CFDGC.IP\",  # IG 模擬平台的 GOLD CFD 代碼\n",
    "    direction=\"BUY\",\n",
    "    size=0.5,        # 可調整倉位大小\n",
    "    stop_level=None, # 暫不設止損\n",
    "    limit_level=None # 暫不設止盈\n",
    ")\n"
   ]
  },
  {
   "cell_type": "code",
   "execution_count": 21,
   "id": "2fb5ffbb-c543-4a2c-b709-bfa2bc4819c3",
   "metadata": {},
   "outputs": [
    {
     "name": "stdout",
     "output_type": "stream",
     "text": [
      "✅ 成功送出掛單指令！\n",
      "回傳結果： {'dealReference': 'test-gold-order'}\n"
     ]
    }
   ],
   "source": [
    "import json\n",
    "\n",
    "def place_order(epic, direction, size, level=None, stop_level=None, limit_level=None, expiry=\"DFB\", force_open=True):\n",
    "    url = \"https://demo-api.ig.com/gateway/deal/positions/otc\"  # 更正後\n",
    "    headers = {\n",
    "        \"X-IG-API-KEY\": os.getenv(\"SIM_IG_API_KEY\"),\n",
    "        \"CST\": os.getenv(\"SIM_IG_CST\"),\n",
    "        \"X-SECURITY-TOKEN\": os.getenv(\"SIM_IG_TOKEN\"),\n",
    "        \"Content-Type\": \"application/json; charset=UTF-8\",\n",
    "        \"Accept\": \"application/json; charset=UTF-8\",\n",
    "        \"Version\": \"2\"\n",
    "    }\n",
    "\n",
    "    payload = {\n",
    "        \"epic\": epic,\n",
    "        \"expiry\": expiry,\n",
    "        \"direction\": direction,\n",
    "        \"size\": size,\n",
    "        \"orderType\": \"MARKET\" if level is None else \"LIMIT\",\n",
    "        \"guaranteedStop\": False,\n",
    "        \"forceOpen\": force_open,\n",
    "        \"currencyCode\": \"USD\",\n",
    "        \"dealReference\": \"test-gold-order\"\n",
    "    }\n",
    "\n",
    "    if level:\n",
    "        payload[\"level\"] = level\n",
    "    if stop_level:\n",
    "        payload[\"stopLevel\"] = stop_level\n",
    "    if limit_level:\n",
    "        payload[\"limitLevel\"] = limit_level\n",
    "\n",
    "    response = requests.post(url, headers=headers, data=json.dumps(payload))\n",
    "\n",
    "    if response.status_code == 200:\n",
    "        print(\"✅ 成功送出掛單指令！\")\n",
    "        print(\"回傳結果：\", response.json())\n",
    "    else:\n",
    "        print(\"❌ 掛單失敗\")\n",
    "        print(\"回傳結果：\", response.status_code, response.text)\n",
    "\n",
    "# 🚀 測試掛單（以 GOLD CFD 為例）\n",
    "place_order(\n",
    "    epic=\"CS.D.CFDGOLD.CFDGC.IP\", \n",
    "    direction=\"BUY\",\n",
    "    size=0.5,\n",
    "    stop_level=None,\n",
    "    limit_level=None\n",
    ")\n"
   ]
  },
  {
   "cell_type": "code",
   "execution_count": 22,
   "id": "a7502d41-5c2a-4ca5-9a00-14e183709d19",
   "metadata": {},
   "outputs": [
    {
     "name": "stdout",
     "output_type": "stream",
     "text": [
      "✅ 查詢訂單成功！\n",
      "訂單狀態： {'date': '2025-04-04T07:16:32.386', 'status': None, 'reason': 'REJECT_SPREADBET_ORDER_ON_CFD_ACCOUNT', 'dealStatus': 'REJECTED', 'epic': 'CS.D.CFDGOLD.CFDGC.IP', 'expiry': None, 'dealReference': 'test-gold-order', 'dealId': 'DIAAAATBGEWLAAB', 'affectedDeals': [], 'level': None, 'size': None, 'direction': 'BUY', 'stopLevel': None, 'limitLevel': None, 'stopDistance': None, 'limitDistance': None, 'guaranteedStop': False, 'trailingStop': False, 'profit': None, 'profitCurrency': None}\n"
     ]
    }
   ],
   "source": [
    "# 查詢訂單狀態函式\n",
    "def check_order_status(deal_reference):\n",
    "    url = f\"https://demo-api.ig.com/gateway/deal/confirms/{deal_reference}\"\n",
    "    headers = {\n",
    "        \"X-IG-API-KEY\": os.getenv(\"SIM_IG_API_KEY\"),\n",
    "        \"CST\": os.getenv(\"SIM_IG_CST\"),\n",
    "        \"X-SECURITY-TOKEN\": os.getenv(\"SIM_IG_TOKEN\"),\n",
    "        \"Accept\": \"application/json; charset=UTF-8\",\n",
    "        \"Version\": \"1\"\n",
    "    }\n",
    "\n",
    "    response = requests.get(url, headers=headers)\n",
    "\n",
    "    if response.status_code == 200:\n",
    "        print(\"✅ 查詢訂單成功！\")\n",
    "        print(\"訂單狀態：\", response.json())\n",
    "    else:\n",
    "        print(\"❌ 查詢訂單失敗\")\n",
    "        print(\"回傳結果：\", response.status_code, response.text)\n",
    "\n",
    "# 呼叫此函式，確認訂單狀態\n",
    "check_order_status(\"test-gold-order\")\n"
   ]
  },
  {
   "cell_type": "code",
   "execution_count": 29,
   "id": "461dc0b7-6b15-4c7a-ab6c-3681bfaef027",
   "metadata": {},
   "outputs": [],
   "source": [
    "def place_order(epic, direction, size, level=None, stop_level=None, limit_level=None, expiry=\"DFB\", force_open=True):\n",
    "    url = \"https://demo-api.ig.com/gateway/deal/positions/otc\"\n",
    "\n",
    "    headers = {\n",
    "        \"X-IG-API-KEY\": os.getenv(\"SIM_IG_API_KEY\"),\n",
    "        \"CST\": os.getenv(\"SIM_IG_CST\"),\n",
    "        \"X-SECURITY-TOKEN\": os.getenv(\"SIM_IG_TOKEN\"),\n",
    "        \"Content-Type\": \"application/json; charset=UTF-8\",\n",
    "        \"Accept\": \"application/json; charset=UTF-8\",\n",
    "        \"Version\": \"2\"\n",
    "    }\n",
    "\n",
    "    payload = {\n",
    "        \"epic\": epic,\n",
    "        \"expiry\": expiry,\n",
    "        \"direction\": direction,\n",
    "        \"size\": size,\n",
    "        \"orderType\": \"MARKET\" if level is None else \"LIMIT\",\n",
    "        \"guaranteedStop\": False,\n",
    "        \"forceOpen\": force_open,\n",
    "        \"currencyCode\": \"USD\",\n",
    "        \"dealReference\": \"cfd-test-gold-order\"\n",
    "    }\n",
    "\n",
    "    if level:\n",
    "        payload[\"level\"] = level\n",
    "    if stop_level:\n",
    "        payload[\"stopLevel\"] = stop_level\n",
    "    if limit_level:\n",
    "        payload[\"limitLevel\"] = limit_level\n",
    "\n",
    "    response = requests.post(url, headers=headers, data=json.dumps(payload))\n",
    "\n",
    "    if response.status_code == 200:\n",
    "        print(\"✅ 成功送出掛單指令！\")\n",
    "        print(\"回傳結果：\", response.json())\n",
    "    else:\n",
    "        print(\"❌ 掛單失敗\")\n",
    "        print(\"回傳結果：\", response.status_code, response.text)\n"
   ]
  },
  {
   "cell_type": "code",
   "execution_count": 30,
   "id": "d72997ab-09d3-4632-a172-b98b2f970bf8",
   "metadata": {},
   "outputs": [
    {
     "name": "stdout",
     "output_type": "stream",
     "text": [
      "✅ 成功送出掛單指令！\n",
      "回傳結果： {'dealReference': 'cfd-test-gold-order'}\n"
     ]
    }
   ],
   "source": [
    "# 呼叫剛定義好的下單函數進行實際測試\n",
    "place_order(\n",
    "    epic=\"CS.D.CFDGOLD.CFDGC.IP\",  # IG 模擬平台的 GOLD CFD 代碼\n",
    "    direction=\"BUY\",\n",
    "    size=0.5,            # 可調整倉位大小\n",
    "    stop_level=None,     # 暫不設止損\n",
    "    limit_level=None     # 暫不設止盈\n",
    ")\n"
   ]
  },
  {
   "cell_type": "code",
   "execution_count": 27,
   "id": "4a033854-9d14-4990-8c24-e6ecfc726e50",
   "metadata": {},
   "outputs": [
    {
     "name": "stdout",
     "output_type": "stream",
     "text": [
      "✅ 成功送出掛單指令！\n",
      "回傳結果： {'dealReference': 'cfd-test-gold-order'}\n"
     ]
    }
   ],
   "source": [
    "place_order(\n",
    "    epic=\"CS.D.CFDGOLD.CFDGC.IP\",\n",
    "    direction=\"BUY\",\n",
    "    size=0.5,\n",
    "    stop_level=None,\n",
    "    limit_level=None\n",
    ")\n"
   ]
  },
  {
   "cell_type": "code",
   "execution_count": 28,
   "id": "2b98da08-bda5-4769-87ac-c7f5175e852b",
   "metadata": {},
   "outputs": [
    {
     "name": "stdout",
     "output_type": "stream",
     "text": [
      "✅ 查詢訂單成功！\n",
      "📦訂單結果： {'date': '2025-04-04T07:24:43.692', 'status': None, 'reason': 'REJECT_SPREADBET_ORDER_ON_CFD_ACCOUNT', 'dealStatus': 'REJECTED', 'epic': 'CS.D.CFDGOLD.CFDGC.IP', 'expiry': None, 'dealReference': 'cfd-test-gold-order', 'dealId': 'DIAAAATBGHY7HA3', 'affectedDeals': [], 'level': None, 'size': None, 'direction': 'BUY', 'stopLevel': None, 'limitLevel': None, 'stopDistance': None, 'limitDistance': None, 'guaranteedStop': False, 'trailingStop': False, 'profit': None, 'profitCurrency': None}\n"
     ]
    }
   ],
   "source": [
    "def check_order_status(deal_reference):\n",
    "    url = f\"https://demo-api.ig.com/gateway/deal/confirms/{deal_reference}\"\n",
    "    headers = {\n",
    "        \"X-IG-API-KEY\": os.getenv(\"SIM_IG_API_KEY\"),\n",
    "        \"CST\": os.getenv(\"SIM_IG_CST\"),\n",
    "        \"X-SECURITY-TOKEN\": os.getenv(\"SIM_IG_TOKEN\"),\n",
    "        \"Accept\": \"application/json; charset=UTF-8\",\n",
    "        \"Version\": \"1\"\n",
    "    }\n",
    "\n",
    "    response = requests.get(url, headers=headers)\n",
    "\n",
    "    if response.status_code == 200:\n",
    "        print(\"✅ 查詢訂單成功！\")\n",
    "        print(\"📦訂單結果：\", response.json())\n",
    "    else:\n",
    "        print(\"❌ 查詢訂單失敗\")\n",
    "        print(\"回傳結果：\", response.status_code, response.text)\n",
    "\n",
    "# 執行查詢\n",
    "check_order_status('cfd-test-gold-order')\n"
   ]
  },
  {
   "cell_type": "code",
   "execution_count": 31,
   "id": "531e6397-2bbe-4021-bed9-52547c87b4b0",
   "metadata": {},
   "outputs": [
    {
     "name": "stdout",
     "output_type": "stream",
     "text": [
      "✅ 查詢訂單成功！\n",
      "📦訂單結果： {'date': '2025-04-04T07:28:04.853', 'status': None, 'reason': 'REJECT_SPREADBET_ORDER_ON_CFD_ACCOUNT', 'dealStatus': 'REJECTED', 'epic': 'CS.D.CFDGOLD.CFDGC.IP', 'expiry': None, 'dealReference': 'cfd-test-gold-order', 'dealId': 'DIAAAATBGKG6MAB', 'affectedDeals': [], 'level': None, 'size': None, 'direction': 'BUY', 'stopLevel': None, 'limitLevel': None, 'stopDistance': None, 'limitDistance': None, 'guaranteedStop': False, 'trailingStop': False, 'profit': None, 'profitCurrency': None}\n"
     ]
    }
   ],
   "source": [
    "def check_order_status(deal_reference):\n",
    "    url = f\"https://demo-api.ig.com/gateway/deal/confirms/{deal_reference}\"\n",
    "    headers = {\n",
    "        \"X-IG-API-KEY\": os.getenv(\"SIM_IG_API_KEY\"),\n",
    "        \"CST\": os.getenv(\"SIM_IG_CST\"),\n",
    "        \"X-SECURITY-TOKEN\": os.getenv(\"SIM_IG_TOKEN\"),\n",
    "        \"Accept\": \"application/json; charset=UTF-8\",\n",
    "        \"Version\": \"1\"\n",
    "    }\n",
    "\n",
    "    response = requests.get(url, headers=headers)\n",
    "\n",
    "    if response.status_code == 200:\n",
    "        print(\"✅ 查詢訂單成功！\")\n",
    "        print(\"📦訂單結果：\", response.json())\n",
    "    else:\n",
    "        print(\"❌ 查詢訂單失敗\")\n",
    "        print(\"回傳結果：\", response.status_code, response.text)\n",
    "\n",
    "# 執行查詢\n",
    "check_order_status('cfd-test-gold-order')\n"
   ]
  },
  {
   "cell_type": "code",
   "execution_count": 32,
   "id": "ff6d957d-7890-44c7-aedc-7f441467ddcf",
   "metadata": {},
   "outputs": [],
   "source": [
    "def place_order(epic, direction, size, level=None, stop_level=None, limit_level=None, expiry=\"DFB\", force_open=True):\n",
    "    url = \"https://demo-api.ig.com/gateway/deal/positions/otc\"\n",
    "\n",
    "    headers = {\n",
    "        \"X-IG-API-KEY\": os.getenv(\"SIM_IG_API_KEY\"),\n",
    "        \"CST\": os.getenv(\"SIM_IG_CST\"),\n",
    "        \"X-SECURITY-TOKEN\": os.getenv(\"SIM_IG_TOKEN\"),\n",
    "        \"Content-Type\": \"application/json; charset=UTF-8\",\n",
    "        \"Accept\": \"application/json; charset=UTF-8\",\n",
    "        \"Version\": \"2\"\n",
    "    }\n",
    "\n",
    "    payload = {\n",
    "        \"epic\": epic,\n",
    "        \"expiry\": expiry,\n",
    "        \"direction\": direction,\n",
    "        \"size\": size,\n",
    "        \"orderType\": \"MARKET\" if level is None else \"LIMIT\",\n",
    "        \"guaranteedStop\": False,\n",
    "        \"forceOpen\": force_open,\n",
    "        \"currencyCode\": \"USD\",\n",
    "        \"dealReference\": \"cfd-test-gold-order\"\n",
    "    }\n",
    "\n",
    "    if level:\n",
    "        payload[\"level\"] = level\n",
    "    if stop_level:\n",
    "        payload[\"stopLevel\"] = stop_level\n",
    "    if limit_level:\n",
    "        payload[\"limitLevel\"] = limit_level\n",
    "\n",
    "    response = requests.post(url, headers=headers, data=json.dumps(payload))\n",
    "\n",
    "    if response.status_code == 200:\n",
    "        print(\"✅ 成功送出掛單指令！\")\n",
    "        print(\"回傳結果：\", response.json())\n",
    "    else:\n",
    "        print(\"❌ 掛單失敗\")\n",
    "        print(\"回傳結果：\", response.status_code, response.text)"
   ]
  },
  {
   "cell_type": "code",
   "execution_count": 33,
   "id": "fb198df6-e7a0-4842-a4b8-04856a6d2ace",
   "metadata": {},
   "outputs": [
    {
     "name": "stdout",
     "output_type": "stream",
     "text": [
      "❌ 查詢訂單失敗\n",
      "回傳結果： 404 {\"errorCode\":\"error.confirms.deal-not-found\"}\n"
     ]
    }
   ],
   "source": [
    "check_order_status('cfd-test-gold-order')\n"
   ]
  },
  {
   "cell_type": "code",
   "execution_count": 34,
   "id": "ad3b5c36-156c-48ad-a81e-62defdf473b8",
   "metadata": {},
   "outputs": [
    {
     "name": "stdout",
     "output_type": "stream",
     "text": [
      "✅ CST / TOKEN 取得成功！\n",
      "CST: 1525491c1ebf2cf91e9118edc92d06e53ed15e582da907d9198f71cc3d6839CC01113\n",
      "TOKEN: 95d0e130e4d0ea6426b8cec365a67795a2b2e1a82d48aa9f959cbd20e0b794CD01115\n"
     ]
    },
    {
     "data": {
      "text/plain": [
       "('1525491c1ebf2cf91e9118edc92d06e53ed15e582da907d9198f71cc3d6839CC01113',\n",
       " '95d0e130e4d0ea6426b8cec365a67795a2b2e1a82d48aa9f959cbd20e0b794CD01115')"
      ]
     },
     "execution_count": 34,
     "metadata": {},
     "output_type": "execute_result"
    }
   ],
   "source": [
    "import os\n",
    "import requests\n",
    "\n",
    "def ig_login():\n",
    "    url = \"https://demo-api.ig.com/gateway/deal/session\"\n",
    "\n",
    "    headers = {\n",
    "        \"X-IG-API-KEY\": os.getenv(\"SIM_IG_API_KEY\"),\n",
    "        \"Content-Type\": \"application/json; charset=UTF-8\",\n",
    "        \"Accept\": \"application/json; charset=UTF-8\",\n",
    "        \"Version\": \"2\"\n",
    "    }\n",
    "\n",
    "    payload = {\n",
    "        \"identifier\": os.getenv(\"SIM_IG_USERNAME\"),\n",
    "        \"password\": os.getenv(\"SIM_IG_PASSWORD\")\n",
    "    }\n",
    "\n",
    "    response = requests.post(url, headers=headers, json=payload)\n",
    "\n",
    "    if response.status_code == 200:\n",
    "        cst = response.headers.get(\"CST\")\n",
    "        token = response.headers.get(\"X-SECURITY-TOKEN\")\n",
    "        os.environ[\"SIM_IG_CST\"] = cst\n",
    "        os.environ[\"SIM_IG_TOKEN\"] = token\n",
    "        print(\"✅ CST / TOKEN 取得成功！\")\n",
    "        print(f\"CST: {cst}\")\n",
    "        print(f\"TOKEN: {token}\")\n",
    "        return cst, token\n",
    "    else:\n",
    "        print(\"❌ 登入失敗：\", response.text)\n",
    "        return None, None\n",
    "\n",
    "# 呼叫登入測試\n",
    "ig_login()\n"
   ]
  },
  {
   "cell_type": "code",
   "execution_count": 35,
   "id": "0695b703-df36-4f4d-93dc-e4d447596c96",
   "metadata": {},
   "outputs": [
    {
     "name": "stdout",
     "output_type": "stream",
     "text": [
      "✅ 成功送出掛單指令！\n",
      "回傳結果： {'dealReference': 'cfd-test-gold-order'}\n"
     ]
    }
   ],
   "source": [
    "import json\n",
    "\n",
    "def place_order(epic, direction, size, level=None, stop_level=None, limit_level=None, expiry=\"DFB\", force_open=True):\n",
    "    url = \"https://demo-api.ig.com/gateway/deal/positions/otc\"  # ✅最終確認CFD帳戶使用otc\n",
    "\n",
    "    headers = {\n",
    "        \"X-IG-API-KEY\": os.getenv(\"SIM_IG_API_KEY\"),\n",
    "        \"CST\": os.getenv(\"SIM_IG_CST\"),\n",
    "        \"X-SECURITY-TOKEN\": os.getenv(\"SIM_IG_TOKEN\"),\n",
    "        \"Content-Type\": \"application/json; charset=UTF-8\",\n",
    "        \"Accept\": \"application/json; charset=UTF-8\",\n",
    "        \"Version\": \"2\"\n",
    "    }\n",
    "\n",
    "    payload = {\n",
    "        \"epic\": epic,\n",
    "        \"expiry\": expiry,\n",
    "        \"direction\": direction,\n",
    "        \"size\": size,\n",
    "        \"orderType\": \"MARKET\" if level is None else \"LIMIT\",\n",
    "        \"guaranteedStop\": False,\n",
    "        \"forceOpen\": force_open,\n",
    "        \"currencyCode\": \"USD\",\n",
    "        \"dealReference\": \"cfd-test-gold-order\"\n",
    "    }\n",
    "\n",
    "    if level:\n",
    "        payload[\"level\"] = level\n",
    "    if stop_level:\n",
    "        payload[\"stopLevel\"] = stop_level\n",
    "    if limit_level:\n",
    "        payload[\"limitLevel\"] = limit_level\n",
    "\n",
    "    response = requests.post(url, headers=headers, data=json.dumps(payload))\n",
    "\n",
    "    if response.status_code == 200:\n",
    "        print(\"✅ 成功送出掛單指令！\")\n",
    "        print(\"回傳結果：\", response.json())\n",
    "    else:\n",
    "        print(\"❌ 掛單失敗\")\n",
    "        print(\"回傳結果：\", response.status_code, response.text)\n",
    "\n",
    "# 測試掛單 (GOLD CFD)\n",
    "place_order(\n",
    "    epic=\"CS.D.CFDGOLD.CFDGC.IP\",\n",
    "    direction=\"BUY\",\n",
    "    size=0.5\n",
    ")\n"
   ]
  },
  {
   "cell_type": "code",
   "execution_count": 36,
   "id": "10545671-5d26-4e1e-b86d-fc1cc445c5f2",
   "metadata": {},
   "outputs": [
    {
     "name": "stdout",
     "output_type": "stream",
     "text": [
      "✅ 查詢訂單成功！\n",
      "訂單狀態： {'date': '2025-04-04T07:44:03.564', 'status': None, 'reason': 'REJECT_SPREADBET_ORDER_ON_CFD_ACCOUNT', 'dealStatus': 'REJECTED', 'epic': 'CS.D.CFDGOLD.CFDGC.IP', 'expiry': None, 'dealReference': 'cfd-test-gold-order', 'dealId': 'DIAAAATBGQ54XAJ', 'affectedDeals': [], 'level': None, 'size': None, 'direction': 'BUY', 'stopLevel': None, 'limitLevel': None, 'stopDistance': None, 'limitDistance': None, 'guaranteedStop': False, 'trailingStop': False, 'profit': None, 'profitCurrency': None}\n"
     ]
    }
   ],
   "source": [
    "def check_order_status(deal_reference):\n",
    "    url = f\"https://demo-api.ig.com/gateway/deal/confirms/{deal_reference}\"\n",
    "    headers = {\n",
    "        \"X-IG-API-KEY\": os.getenv(\"SIM_IG_API_KEY\"),\n",
    "        \"CST\": os.getenv(\"SIM_IG_CST\"),\n",
    "        \"X-SECURITY-TOKEN\": os.getenv(\"SIM_IG_TOKEN\"),\n",
    "        \"Accept\": \"application/json; charset=UTF-8\",\n",
    "        \"Version\": \"1\"\n",
    "    }\n",
    "\n",
    "    response = requests.get(url, headers=headers)\n",
    "\n",
    "    if response.status_code == 200:\n",
    "        print(\"✅ 查詢訂單成功！\")\n",
    "        print(\"訂單狀態：\", response.json())\n",
    "    else:\n",
    "        print(\"❌ 查詢訂單失敗\")\n",
    "        print(\"回傳結果：\", response.status_code, response.text)\n",
    "\n",
    "# 查詢已提交的訂單狀態\n",
    "check_order_status('cfd-test-gold-order')\n"
   ]
  },
  {
   "cell_type": "code",
   "execution_count": 37,
   "id": "d917c40f-937b-475b-8c6e-accea49ffa32",
   "metadata": {},
   "outputs": [],
   "source": [
    "def place_order(epic, direction, size, level=None, stop_level=None, limit_level=None, expiry=\"DFB\", force_open=True):\n",
    "    url = \"https://demo-api.ig.com/gateway/deal/positions/otc\"  # ✅ CFD 帳戶用 OTC\n",
    "\n",
    "    headers = {\n",
    "        \"X-IG-API-KEY\": os.getenv(\"SIM_IG_API_KEY\"),\n",
    "        \"CST\": os.getenv(\"SIM_IG_CST\"),\n",
    "        \"X-SECURITY-TOKEN\": os.getenv(\"SIM_IG_TOKEN\"),\n",
    "        \"Content-Type\": \"application/json; charset=UTF-8\",\n",
    "        \"Accept\": \"application/json; charset=UTF-8\",\n",
    "        \"Version\": \"2\"\n",
    "    }\n",
    "\n",
    "    # ✅ 保證所有欄位都有正確型別與內容\n",
    "    payload = {\n",
    "        \"epic\": epic,\n",
    "        \"expiry\": expiry,\n",
    "        \"direction\": direction,\n",
    "        \"size\": float(size),\n",
    "        \"orderType\": \"MARKET\",\n",
    "        \"guaranteedStop\": False,\n",
    "        \"forceOpen\": force_open,\n",
    "        \"currencyCode\": \"USD\",\n",
    "        \"dealReference\": \"cfd-test-gold-order\"\n",
    "    }\n",
    "\n",
    "    if level is not None:\n",
    "        payload[\"level\"] = float(level)\n",
    "    if stop_level is not None:\n",
    "        payload[\"stopLevel\"] = float(stop_level)\n",
    "    if limit_level is not None:\n",
    "        payload[\"limitLevel\"] = float(limit_level)\n",
    "\n",
    "    response = requests.post(url, headers=headers, data=json.dumps(payload))\n",
    "\n",
    "    if response.status_code == 200:\n",
    "        print(\"✅ 成功送出掛單指令！\")\n",
    "        print(\"回傳結果：\", response.json())\n",
    "    else:\n",
    "        print(\"❌ 掛單失敗\")\n",
    "        print(\"回傳結果：\", response.status_code, response.text)\n"
   ]
  },
  {
   "cell_type": "code",
   "execution_count": 38,
   "id": "b50703f4-0395-481d-91bc-40be71b4a08f",
   "metadata": {},
   "outputs": [
    {
     "name": "stdout",
     "output_type": "stream",
     "text": [
      "✅ 成功送出掛單指令！\n",
      "回傳結果： {'dealReference': 'cfd-test-gold-order'}\n"
     ]
    }
   ],
   "source": [
    "place_order(\n",
    "    epic=\"CS.D.CFDGOLD.CFDGC.IP\",\n",
    "    direction=\"BUY\",\n",
    "    size=0.5\n",
    ")\n"
   ]
  },
  {
   "cell_type": "code",
   "execution_count": 39,
   "id": "0002a158-e09a-4337-9037-7bc7bbfe70f3",
   "metadata": {},
   "outputs": [
    {
     "name": "stdout",
     "output_type": "stream",
     "text": [
      "✅ 查詢訂單成功！\n",
      "訂單狀態： {'date': '2025-04-04T08:09:36.765', 'status': None, 'reason': 'REJECT_SPREADBET_ORDER_ON_CFD_ACCOUNT', 'dealStatus': 'REJECTED', 'epic': 'CS.D.CFDGOLD.CFDGC.IP', 'expiry': None, 'dealReference': 'cfd-test-gold-order', 'dealId': 'DIAAAATBGY8QXAR', 'affectedDeals': [], 'level': None, 'size': None, 'direction': 'BUY', 'stopLevel': None, 'limitLevel': None, 'stopDistance': None, 'limitDistance': None, 'guaranteedStop': False, 'trailingStop': False, 'profit': None, 'profitCurrency': None}\n"
     ]
    }
   ],
   "source": [
    "check_order_status(\"cfd-test-gold-order\")\n"
   ]
  },
  {
   "cell_type": "code",
   "execution_count": 40,
   "id": "dab751d4-fd0b-42fa-8bed-13faba0480ba",
   "metadata": {},
   "outputs": [],
   "source": [
    "def place_order(epic, direction, size, level=None, stop_level=None, limit_level=None,\n",
    "                expiry=\"DFB\", force_open=True):\n",
    "    url = \"https://demo-api.ig.com/gateway/deal/positions/otc\"  # ✅ 明確為 CFD\n",
    "\n",
    "    headers = {\n",
    "        \"X-IG-API-KEY\": os.getenv(\"SIM_IG_API_KEY\"),\n",
    "        \"CST\": os.getenv(\"SIM_IG_CST\"),\n",
    "        \"X-SECURITY-TOKEN\": os.getenv(\"SIM_IG_TOKEN\"),\n",
    "        \"Content-Type\": \"application/json; charset=UTF-8\",\n",
    "        \"Accept\": \"application/json; charset=UTF-8\",\n",
    "        \"Version\": \"2\"\n",
    "    }\n",
    "\n",
    "    payload = {\n",
    "        \"epic\": epic,\n",
    "        \"expiry\": expiry,\n",
    "        \"direction\": direction,\n",
    "        \"size\": float(size),\n",
    "        \"orderType\": \"MARKET\",\n",
    "        \"guaranteedStop\": False,\n",
    "        \"forceOpen\": force_open,\n",
    "        \"currencyCode\": \"USD\",\n",
    "        \"quoteId\": None,  # ✅ 關鍵補充，防止 fallback 到 SpreadBet\n",
    "        \"dealReference\": \"cfd-test-gold-order\"\n",
    "    }\n",
    "\n",
    "    if level is not None:\n",
    "        payload[\"level\"] = float(level)\n",
    "    if stop_level is not None:\n",
    "        payload[\"stopLevel\"] = float(stop_level)\n",
    "    if limit_level is not None:\n",
    "        payload[\"limitLevel\"] = float(limit_level)\n",
    "\n",
    "    response = requests.post(url, headers=headers, data=json.dumps(payload))\n",
    "\n",
    "    if response.status_code == 200:\n",
    "        print(\"✅ 成功送出掛單指令！\")\n",
    "        print(\"回傳結果：\", response.json())\n",
    "    else:\n",
    "        print(\"❌ 掛單失敗\")\n",
    "        print(\"Headers：\", headers)\n",
    "        print(\"Payload：\", payload)\n",
    "        print(\"回傳結果：\", response.status_code, response.text)\n"
   ]
  },
  {
   "cell_type": "code",
   "execution_count": 41,
   "id": "16d530ed-8720-481e-8842-af628bc0edc3",
   "metadata": {},
   "outputs": [
    {
     "name": "stdout",
     "output_type": "stream",
     "text": [
      "✅ 成功送出掛單指令！\n",
      "回傳結果： {'dealReference': 'cfd-test-gold-order'}\n"
     ]
    }
   ],
   "source": [
    "place_order(\n",
    "    epic=\"CS.D.CFDGOLD.CFDGC.IP\",\n",
    "    direction=\"BUY\",\n",
    "    size=0.5\n",
    ")\n"
   ]
  },
  {
   "cell_type": "code",
   "execution_count": 42,
   "id": "3a207d48-c065-41e8-a414-26da4d28e001",
   "metadata": {},
   "outputs": [
    {
     "name": "stdout",
     "output_type": "stream",
     "text": [
      "✅ 查詢訂單成功！\n",
      "訂單狀態： {'date': '2025-04-04T08:10:55.83', 'status': None, 'reason': 'REJECT_SPREADBET_ORDER_ON_CFD_ACCOUNT', 'dealStatus': 'REJECTED', 'epic': 'CS.D.CFDGOLD.CFDGC.IP', 'expiry': None, 'dealReference': 'cfd-test-gold-order', 'dealId': 'DIAAAATBGYUVLAQ', 'affectedDeals': [], 'level': None, 'size': None, 'direction': 'BUY', 'stopLevel': None, 'limitLevel': None, 'stopDistance': None, 'limitDistance': None, 'guaranteedStop': False, 'trailingStop': False, 'profit': None, 'profitCurrency': None}\n"
     ]
    }
   ],
   "source": [
    "check_order_status(\"cfd-test-gold-order\")"
   ]
  },
  {
   "cell_type": "code",
   "execution_count": 43,
   "id": "e99fd45e-6d8d-4b6a-a76d-510e414e9119",
   "metadata": {},
   "outputs": [
    {
     "name": "stdout",
     "output_type": "stream",
     "text": [
      "{'accounts': [{'accountId': 'Z4BV5B', 'accountName': 'OPENAI-DEMO', 'accountAlias': None, 'status': 'ENABLED', 'accountType': 'CFD', 'preferred': True, 'balance': {'balance': 100836.44, 'deposit': 0.0, 'profitLoss': 0.0, 'available': 100836.44}, 'currency': 'USD', 'canTransferFrom': True, 'canTransferTo': True}]}\n"
     ]
    }
   ],
   "source": [
    "url = \"https://demo-api.ig.com/gateway/deal/accounts\"\n",
    "headers = {\n",
    "    \"X-IG-API-KEY\": os.getenv(\"SIM_IG_API_KEY\"),\n",
    "    \"CST\": os.getenv(\"SIM_IG_CST\"),\n",
    "    \"X-SECURITY-TOKEN\": os.getenv(\"SIM_IG_TOKEN\"),\n",
    "    \"Accept\": \"application/json; charset=UTF-8\",\n",
    "    \"Version\": \"1\"\n",
    "}\n",
    "response = requests.get(url, headers=headers)\n",
    "print(response.json())\n"
   ]
  },
  {
   "cell_type": "code",
   "execution_count": 44,
   "id": "f922be70-c170-4949-8b29-d271cdbcdd83",
   "metadata": {},
   "outputs": [
    {
     "ename": "NameError",
     "evalue": "name 'epic' is not defined",
     "output_type": "error",
     "traceback": [
      "\u001b[0;31m---------------------------------------------------------------------------\u001b[0m",
      "\u001b[0;31mNameError\u001b[0m                                 Traceback (most recent call last)",
      "Cell \u001b[0;32mIn[44], line 2\u001b[0m\n\u001b[1;32m      1\u001b[0m payload \u001b[38;5;241m=\u001b[39m {\n\u001b[0;32m----> 2\u001b[0m     \u001b[38;5;124m\"\u001b[39m\u001b[38;5;124mepic\u001b[39m\u001b[38;5;124m\"\u001b[39m: \u001b[43mepic\u001b[49m,\n\u001b[1;32m      3\u001b[0m     \u001b[38;5;124m\"\u001b[39m\u001b[38;5;124mexpiry\u001b[39m\u001b[38;5;124m\"\u001b[39m: expiry,\n\u001b[1;32m      4\u001b[0m     \u001b[38;5;124m\"\u001b[39m\u001b[38;5;124mdirection\u001b[39m\u001b[38;5;124m\"\u001b[39m: direction,\n\u001b[1;32m      5\u001b[0m     \u001b[38;5;124m\"\u001b[39m\u001b[38;5;124msize\u001b[39m\u001b[38;5;124m\"\u001b[39m: \u001b[38;5;28mfloat\u001b[39m(size),\n\u001b[1;32m      6\u001b[0m     \u001b[38;5;124m\"\u001b[39m\u001b[38;5;124morderType\u001b[39m\u001b[38;5;124m\"\u001b[39m: \u001b[38;5;124m\"\u001b[39m\u001b[38;5;124mMARKET\u001b[39m\u001b[38;5;124m\"\u001b[39m \u001b[38;5;28;01mif\u001b[39;00m level \u001b[38;5;129;01mis\u001b[39;00m \u001b[38;5;28;01mNone\u001b[39;00m \u001b[38;5;28;01melse\u001b[39;00m \u001b[38;5;124m\"\u001b[39m\u001b[38;5;124mLIMIT\u001b[39m\u001b[38;5;124m\"\u001b[39m,\n\u001b[1;32m      7\u001b[0m     \u001b[38;5;124m\"\u001b[39m\u001b[38;5;124mguaranteedStop\u001b[39m\u001b[38;5;124m\"\u001b[39m: \u001b[38;5;28;01mFalse\u001b[39;00m,\n\u001b[1;32m      8\u001b[0m     \u001b[38;5;124m\"\u001b[39m\u001b[38;5;124mforceOpen\u001b[39m\u001b[38;5;124m\"\u001b[39m: force_open,\n\u001b[1;32m      9\u001b[0m     \u001b[38;5;124m\"\u001b[39m\u001b[38;5;124mcurrencyCode\u001b[39m\u001b[38;5;124m\"\u001b[39m: \u001b[38;5;124m\"\u001b[39m\u001b[38;5;124mUSD\u001b[39m\u001b[38;5;124m\"\u001b[39m,\n\u001b[1;32m     10\u001b[0m     \u001b[38;5;124m\"\u001b[39m\u001b[38;5;124mquoteId\u001b[39m\u001b[38;5;124m\"\u001b[39m: \u001b[38;5;28;01mNone\u001b[39;00m,\n\u001b[1;32m     11\u001b[0m     \u001b[38;5;124m\"\u001b[39m\u001b[38;5;124maccountId\u001b[39m\u001b[38;5;124m\"\u001b[39m: \u001b[38;5;124m\"\u001b[39m\u001b[38;5;124mZ4BV5B\u001b[39m\u001b[38;5;124m\"\u001b[39m,  \u001b[38;5;66;03m# ✅ 明確指定 CFD 帳戶 ID\u001b[39;00m\n\u001b[1;32m     12\u001b[0m     \u001b[38;5;124m\"\u001b[39m\u001b[38;5;124mdealReference\u001b[39m\u001b[38;5;124m\"\u001b[39m: \u001b[38;5;124m\"\u001b[39m\u001b[38;5;124mcfd-test-gold-order\u001b[39m\u001b[38;5;124m\"\u001b[39m\n\u001b[1;32m     13\u001b[0m }\n",
      "\u001b[0;31mNameError\u001b[0m: name 'epic' is not defined"
     ]
    }
   ],
   "source": [
    "payload = {\n",
    "    \"epic\": epic,\n",
    "    \"expiry\": expiry,\n",
    "    \"direction\": direction,\n",
    "    \"size\": float(size),\n",
    "    \"orderType\": \"MARKET\" if level is None else \"LIMIT\",\n",
    "    \"guaranteedStop\": False,\n",
    "    \"forceOpen\": force_open,\n",
    "    \"currencyCode\": \"USD\",\n",
    "    \"quoteId\": None,\n",
    "    \"accountId\": \"Z4BV5B\",  # ✅ 明確指定 CFD 帳戶 ID\n",
    "    \"dealReference\": \"cfd-test-gold-order\"\n",
    "}\n"
   ]
  },
  {
   "cell_type": "code",
   "execution_count": 45,
   "id": "47f4022b-7461-48f9-bd7d-a2b06f43b0d5",
   "metadata": {},
   "outputs": [
    {
     "name": "stdout",
     "output_type": "stream",
     "text": [
      "✅ 成功送出掛單指令！\n",
      "回傳結果： {'dealReference': 'cfd-test-gold-order'}\n"
     ]
    }
   ],
   "source": [
    "place_order(\n",
    "    epic=\"CS.D.CFDGOLD.CFDGC.IP\",\n",
    "    direction=\"BUY\",\n",
    "    size=0.5\n",
    ")\n"
   ]
  },
  {
   "cell_type": "code",
   "execution_count": 46,
   "id": "838eb126-f602-4f83-9aa9-8854e4ea1f1f",
   "metadata": {},
   "outputs": [
    {
     "name": "stdout",
     "output_type": "stream",
     "text": [
      "✅ 查詢訂單成功！\n",
      "訂單狀態： {'date': '2025-04-04T08:13:31.561', 'status': None, 'reason': 'REJECT_SPREADBET_ORDER_ON_CFD_ACCOUNT', 'dealStatus': 'REJECTED', 'epic': 'CS.D.CFDGOLD.CFDGC.IP', 'expiry': None, 'dealReference': 'cfd-test-gold-order', 'dealId': 'DIAAAATBG2ES5A5', 'affectedDeals': [], 'level': None, 'size': None, 'direction': 'BUY', 'stopLevel': None, 'limitLevel': None, 'stopDistance': None, 'limitDistance': None, 'guaranteedStop': False, 'trailingStop': False, 'profit': None, 'profitCurrency': None}\n"
     ]
    }
   ],
   "source": [
    "check_order_status(\"cfd-test-gold-order\")\n"
   ]
  },
  {
   "cell_type": "code",
   "execution_count": 47,
   "id": "d0a97724-74fe-44b8-8e96-da399ebdade8",
   "metadata": {},
   "outputs": [],
   "source": [
    "import os\n",
    "import requests\n",
    "import json\n",
    "\n",
    "def place_order(epic, direction, size, level=None, stop_level=None, limit_level=None,\n",
    "                expiry=\"DFB\", force_open=True, deal_reference=\"cfd-test-gold-order\"):\n",
    "    url = \"https://demo-api.ig.com/gateway/deal/positions/otc\"  # ✅ 明確使用 CFD API\n",
    "\n",
    "    headers = {\n",
    "        \"X-IG-API-KEY\": os.getenv(\"SIM_IG_API_KEY\"),\n",
    "        \"CST\": os.getenv(\"SIM_IG_CST\"),\n",
    "        \"X-SECURITY-TOKEN\": os.getenv(\"SIM_IG_TOKEN\"),\n",
    "        \"Content-Type\": \"application/json; charset=UTF-8\",\n",
    "        \"Accept\": \"application/json; charset=UTF-8\",\n",
    "        \"Version\": \"2\"\n",
    "    }\n",
    "\n",
    "    payload = {\n",
    "        \"epic\": epic,\n",
    "        \"expiry\": expiry,\n",
    "        \"direction\": direction,\n",
    "        \"size\": float(size),\n",
    "        \"orderType\": \"MARKET\" if level is None else \"LIMIT\",\n",
    "        \"guaranteedStop\": False,\n",
    "        \"forceOpen\": force_open,\n",
    "        \"currencyCode\": \"USD\",\n",
    "        \"quoteId\": None,                     # ✅ 明確為 CFD 而非 SpreadBet\n",
    "        \"accountId\": \"Z4BV5B\",               # ✅ 你的 CFD 帳戶 ID\n",
    "        \"dealReference\": deal_reference\n",
    "    }\n",
    "\n",
    "    if level is not None:\n",
    "        payload[\"level\"] = float(level)\n",
    "    if stop_level is not None:\n",
    "        payload[\"stopLevel\"] = float(stop_level)\n",
    "    if limit_level is not None:\n",
    "        payload[\"limitLevel\"] = float(limit_level)\n",
    "\n",
    "    response = requests.post(url, headers=headers, data=json.dumps(payload))\n",
    "\n",
    "    if response.status_code == 200:\n",
    "        print(\"✅ 成功送出掛單指令！\")\n",
    "        result = response.json()\n",
    "        print(\"📦 回傳結果：\", result)\n",
    "        return result.get(\"dealReference\")  # ✅ 回傳下單後的 dealReference\n",
    "    else:\n",
    "        print(\"❌ 掛單失敗\")\n",
    "        print(\"Headers:\", headers)\n",
    "        print(\"Payload:\", payload)\n",
    "        print(\"📭 回傳結果：\", response.status_code, response.text)\n",
    "        return None\n"
   ]
  },
  {
   "cell_type": "code",
   "execution_count": 48,
   "id": "67c9291f-1674-4d17-a112-d21a8d2500fa",
   "metadata": {},
   "outputs": [],
   "source": [
    "def check_order_status(deal_reference):\n",
    "    url = f\"https://demo-api.ig.com/gateway/deal/confirms/{deal_reference}\"\n",
    "\n",
    "    headers = {\n",
    "        \"X-IG-API-KEY\": os.getenv(\"SIM_IG_API_KEY\"),\n",
    "        \"CST\": os.getenv(\"SIM_IG_CST\"),\n",
    "        \"X-SECURITY-TOKEN\": os.getenv(\"SIM_IG_TOKEN\"),\n",
    "        \"Accept\": \"application/json; charset=UTF-8\",\n",
    "        \"Version\": \"1\"\n",
    "    }\n",
    "\n",
    "    response = requests.get(url, headers=headers)\n",
    "\n",
    "    if response.status_code == 200:\n",
    "        print(\"✅ 查詢訂單成功！\")\n",
    "        print(\"📦 訂單結果：\", response.json())\n",
    "    else:\n",
    "        print(\"❌ 查詢訂單失敗\")\n",
    "        print(\"📭 回傳結果：\", response.status_code, response.text)\n"
   ]
  },
  {
   "cell_type": "code",
   "execution_count": 49,
   "id": "5f49ccbd-51ef-4524-adfd-9b97712e5af8",
   "metadata": {},
   "outputs": [],
   "source": [
    "import os\n",
    "import requests\n",
    "\n",
    "def ig_login():\n",
    "    url = \"https://demo-api.ig.com/gateway/deal/session\"\n",
    "\n",
    "    headers = {\n",
    "        \"X-IG-API-KEY\": os.getenv(\"SIM_IG_API_KEY\"),\n",
    "        \"Content-Type\": \"application/json; charset=UTF-8\",\n",
    "        \"Accept\": \"application/json; charset=UTF-8\",\n",
    "        \"Version\": \"2\"\n",
    "    }\n",
    "\n",
    "    payload = {\n",
    "        \"identifier\": os.getenv(\"SIM_IG_USERNAME\"),\n",
    "        \"password\": os.getenv(\"SIM_IG_PASSWORD\")\n",
    "    }\n",
    "\n",
    "    response = requests.post(url, headers=headers, json=payload)\n",
    "\n",
    "    if response.status_code == 200:\n",
    "        cst = response.headers.get(\"CST\")\n",
    "        token = response.headers.get(\"X-SECURITY-TOKEN\")\n",
    "        os.environ[\"SIM_IG_CST\"] = cst\n",
    "        os.environ[\"SIM_IG_TOKEN\"] = token\n",
    "        print(\"✅ CST / TOKEN 取得成功！\")\n",
    "        print(f\"CST: {cst}\")\n",
    "        print(f\"TOKEN: {token}\")\n",
    "        return cst, token\n",
    "    else:\n",
    "        print(\"❌ 登入失敗\")\n",
    "        print(response.status_code, response.text)\n",
    "        return None, None\n"
   ]
  },
  {
   "cell_type": "code",
   "execution_count": null,
   "id": "3886b99f-3933-4c9a-a902-b658a1f8ac67",
   "metadata": {},
   "outputs": [],
   "source": []
  },
  {
   "cell_type": "code",
   "execution_count": 50,
   "id": "31846f03-2553-4839-957a-5a274e7a7332",
   "metadata": {},
   "outputs": [
    {
     "name": "stdout",
     "output_type": "stream",
     "text": [
      "✅ CST / TOKEN 取得成功！\n",
      "CST: 91e410176582f2f938dd1d12531b2ad735bf63fff52d9611d7e7ca0d47ff09CC01115\n",
      "TOKEN: cca161d169819d18d19a8bb25d531769d8b271c45e97747a92e66f23cef928CD01114\n"
     ]
    },
    {
     "data": {
      "text/plain": [
       "('91e410176582f2f938dd1d12531b2ad735bf63fff52d9611d7e7ca0d47ff09CC01115',\n",
       " 'cca161d169819d18d19a8bb25d531769d8b271c45e97747a92e66f23cef928CD01114')"
      ]
     },
     "execution_count": 50,
     "metadata": {},
     "output_type": "execute_result"
    }
   ],
   "source": [
    "ig_login()\n"
   ]
  },
  {
   "cell_type": "code",
   "execution_count": 51,
   "id": "e45a4e1a-9b47-4b9a-ace7-5729c56b351c",
   "metadata": {},
   "outputs": [],
   "source": [
    "import json\n",
    "\n",
    "def place_order(epic, direction, size, level=None, stop_level=None, limit_level=None,\n",
    "                expiry=\"DFB\", force_open=True, deal_ref=\"cfd-test-gold-order\"):\n",
    "    \n",
    "    url = \"https://demo-api.ig.com/gateway/deal/positions/otc\"  # ✅ 明確為 CFD\n",
    "    \n",
    "    headers = {\n",
    "        \"X-IG-API-KEY\": os.getenv(\"SIM_IG_API_KEY\"),\n",
    "        \"CST\": os.getenv(\"SIM_IG_CST\"),\n",
    "        \"X-SECURITY-TOKEN\": os.getenv(\"SIM_IG_TOKEN\"),\n",
    "        \"Content-Type\": \"application/json; charset=UTF-8\",\n",
    "        \"Accept\": \"application/json; charset=UTF-8\",\n",
    "        \"Version\": \"2\"\n",
    "    }\n",
    "\n",
    "    payload = {\n",
    "        \"epic\": epic,\n",
    "        \"expiry\": expiry,\n",
    "        \"direction\": direction,\n",
    "        \"size\": float(size),\n",
    "        \"orderType\": \"MARKET\" if level is None else \"LIMIT\",\n",
    "        \"guaranteedStop\": False,\n",
    "        \"forceOpen\": force_open,\n",
    "        \"currencyCode\": \"USD\",\n",
    "        \"accountId\": \"Z4BV5B\",               # ✅ 明確指定 CFD 帳戶 ID\n",
    "        \"quoteId\": None,\n",
    "        \"dealReference\": deal_ref\n",
    "    }\n",
    "\n",
    "    if level is not None:\n",
    "        payload[\"level\"] = float(level)\n",
    "    if stop_level is not None:\n",
    "        payload[\"stopLevel\"] = float(stop_level)\n",
    "    if limit_level is not None:\n",
    "        payload[\"limitLevel\"] = float(limit_level)\n",
    "\n",
    "    response = requests.post(url, headers=headers, data=json.dumps(payload))\n",
    "\n",
    "    if response.status_code == 200:\n",
    "        print(\"✅ 成功送出掛單指令！\")\n",
    "        print(\"回傳結果：\", response.json())\n",
    "        return response.json()\n",
    "    else:\n",
    "        print(\"❌ 掛單失敗\")\n",
    "        print(\"Headers：\", headers)\n",
    "        print(\"Payload：\", payload)\n",
    "        print(\"回傳結果：\", response.status_code, response.text)\n",
    "        return None\n"
   ]
  },
  {
   "cell_type": "code",
   "execution_count": 52,
   "id": "cadc9086-cb03-4314-a7a8-01f6ad7fbe4b",
   "metadata": {},
   "outputs": [
    {
     "name": "stdout",
     "output_type": "stream",
     "text": [
      "✅ 成功送出掛單指令！\n",
      "回傳結果： {'dealReference': 'cfd-test-gold-order'}\n"
     ]
    },
    {
     "data": {
      "text/plain": [
       "{'dealReference': 'cfd-test-gold-order'}"
      ]
     },
     "execution_count": 52,
     "metadata": {},
     "output_type": "execute_result"
    }
   ],
   "source": [
    "place_order(\n",
    "    epic=\"CS.D.CFDGOLD.CFDGC.IP\",   # ✅ GOLD CFD EPIC\n",
    "    direction=\"BUY\",\n",
    "    size=0.5\n",
    ")\n"
   ]
  },
  {
   "cell_type": "code",
   "execution_count": 53,
   "id": "f24e2862-c3f7-4965-a5ce-fe68ed7db36e",
   "metadata": {},
   "outputs": [],
   "source": [
    "def check_order_status(deal_reference):\n",
    "    url = f\"https://demo-api.ig.com/gateway/deal/confirms/{deal_reference}\"\n",
    "\n",
    "    headers = {\n",
    "        \"X-IG-API-KEY\": os.getenv(\"SIM_IG_API_KEY\"),\n",
    "        \"CST\": os.getenv(\"SIM_IG_CST\"),\n",
    "        \"X-SECURITY-TOKEN\": os.getenv(\"SIM_IG_TOKEN\"),\n",
    "        \"Accept\": \"application/json; charset=UTF-8\",\n",
    "        \"Version\": \"1\"\n",
    "    }\n",
    "\n",
    "    response = requests.get(url, headers=headers)\n",
    "\n",
    "    if response.status_code == 200:\n",
    "        print(\"✅ 查詢訂單成功！\")\n",
    "        result = response.json()\n",
    "        print(\"📦 訂單結果：\", result)\n",
    "        return result\n",
    "    else:\n",
    "        print(\"❌ 查詢訂單失敗\")\n",
    "        print(\"回傳結果：\", response.status_code, response.text)\n",
    "        return None\n"
   ]
  },
  {
   "cell_type": "code",
   "execution_count": 54,
   "id": "942e6619-5348-4b38-ade6-635af85cde18",
   "metadata": {},
   "outputs": [
    {
     "name": "stdout",
     "output_type": "stream",
     "text": [
      "✅ 查詢訂單成功！\n",
      "📦 訂單結果： {'date': '2025-04-04T08:17:01.432', 'status': None, 'reason': 'REJECT_SPREADBET_ORDER_ON_CFD_ACCOUNT', 'dealStatus': 'REJECTED', 'epic': 'CS.D.CFDGOLD.CFDGC.IP', 'expiry': None, 'dealReference': 'cfd-test-gold-order', 'dealId': 'DIAAAATBG2URZAQ', 'affectedDeals': [], 'level': None, 'size': None, 'direction': 'BUY', 'stopLevel': None, 'limitLevel': None, 'stopDistance': None, 'limitDistance': None, 'guaranteedStop': False, 'trailingStop': False, 'profit': None, 'profitCurrency': None}\n"
     ]
    },
    {
     "data": {
      "text/plain": [
       "{'date': '2025-04-04T08:17:01.432',\n",
       " 'status': None,\n",
       " 'reason': 'REJECT_SPREADBET_ORDER_ON_CFD_ACCOUNT',\n",
       " 'dealStatus': 'REJECTED',\n",
       " 'epic': 'CS.D.CFDGOLD.CFDGC.IP',\n",
       " 'expiry': None,\n",
       " 'dealReference': 'cfd-test-gold-order',\n",
       " 'dealId': 'DIAAAATBG2URZAQ',\n",
       " 'affectedDeals': [],\n",
       " 'level': None,\n",
       " 'size': None,\n",
       " 'direction': 'BUY',\n",
       " 'stopLevel': None,\n",
       " 'limitLevel': None,\n",
       " 'stopDistance': None,\n",
       " 'limitDistance': None,\n",
       " 'guaranteedStop': False,\n",
       " 'trailingStop': False,\n",
       " 'profit': None,\n",
       " 'profitCurrency': None}"
      ]
     },
     "execution_count": 54,
     "metadata": {},
     "output_type": "execute_result"
    }
   ],
   "source": [
    "check_order_status(\"cfd-test-gold-order\")\n"
   ]
  },
  {
   "cell_type": "code",
   "execution_count": 55,
   "id": "c2fd0d48-5394-4f64-be9c-76da32fd8dea",
   "metadata": {},
   "outputs": [],
   "source": [
    "import os\n",
    "import requests\n",
    "import json\n",
    "\n",
    "def place_order(epic, direction, size, level=None, stop_level=None, limit_level=None,\n",
    "                expiry=\"DFB\", force_open=True):\n",
    "    url = \"https://demo-api.ig.com/gateway/deal/positions/otc\"  # ✅ 確認為 CFD 路徑\n",
    "\n",
    "    headers = {\n",
    "        \"X-IG-API-KEY\": os.getenv(\"SIM_IG_API_KEY\"),\n",
    "        \"CST\": os.getenv(\"SIM_IG_CST\"),\n",
    "        \"X-SECURITY-TOKEN\": os.getenv(\"SIM_IG_TOKEN\"),\n",
    "        \"Content-Type\": \"application/json; charset=UTF-8\",\n",
    "        \"Accept\": \"application/json; charset=UTF-8\",\n",
    "        \"Version\": \"2\"\n",
    "    }\n",
    "\n",
    "    payload = {\n",
    "        \"epic\": epic,\n",
    "        \"expiry\": expiry,\n",
    "        \"direction\": direction,\n",
    "        \"size\": float(size),\n",
    "        \"orderType\": \"MARKET\" if level is None else \"LIMIT\",\n",
    "        \"guaranteedStop\": False,\n",
    "        \"forceOpen\": force_open,\n",
    "        \"currencyCode\": \"USD\",\n",
    "        \"quoteId\": None,  # ✅ 強制 null，避免 fallback 去 SpreadBet\n",
    "        \"accountId\": \"Z4BV5B\",  # ✅ 你嘅模擬 CFD 帳戶 ID\n",
    "        \"dealReference\": \"cfd-test-gold-order\"\n",
    "    }\n",
    "\n",
    "    if level is not None:\n",
    "        payload[\"level\"] = float(level)\n",
    "    if stop_level is not None:\n",
    "        payload[\"stopLevel\"] = float(stop_level)\n",
    "    if limit_level is not None:\n",
    "        payload[\"limitLevel\"] = float(limit_level)\n",
    "\n",
    "    response = requests.post(url, headers=headers, data=json.dumps(payload))\n",
    "\n",
    "    if response.status_code == 200:\n",
    "        print(\"✅ 成功送出掛單指令！\")\n",
    "        print(\"回傳結果：\", response.json())\n",
    "    else:\n",
    "        print(\"❌ 掛單失敗\")\n",
    "        print(\"Headers：\", headers)\n",
    "        print(\"Payload：\", payload)\n",
    "        print(\"回傳結果：\", response.status_code, response.text)\n"
   ]
  },
  {
   "cell_type": "code",
   "execution_count": 56,
   "id": "0cb9bf37-ee3c-4a31-9f3c-b714068194f8",
   "metadata": {},
   "outputs": [
    {
     "name": "stdout",
     "output_type": "stream",
     "text": [
      "✅ 成功送出掛單指令！\n",
      "回傳結果： {'dealReference': 'cfd-test-gold-order'}\n"
     ]
    }
   ],
   "source": [
    "place_order(\n",
    "    epic=\"CS.D.CFDGOLD.CFDGC.IP\",\n",
    "    direction=\"BUY\",\n",
    "    size=0.5\n",
    ")\n"
   ]
  },
  {
   "cell_type": "code",
   "execution_count": 57,
   "id": "72baeb05-f72d-4c46-a75d-af012c5915ec",
   "metadata": {},
   "outputs": [
    {
     "name": "stdout",
     "output_type": "stream",
     "text": [
      "✅ 查詢訂單成功！\n",
      "📋 訂單結果： {'date': '2025-04-04T08:20:56.726', 'status': None, 'reason': 'REJECT_SPREADBET_ORDER_ON_CFD_ACCOUNT', 'dealStatus': 'REJECTED', 'epic': 'CS.D.CFDGOLD.CFDGC.IP', 'expiry': None, 'dealReference': 'cfd-test-gold-order', 'dealId': 'DIAAAATBG4SREBB', 'affectedDeals': [], 'level': None, 'size': None, 'direction': 'BUY', 'stopLevel': None, 'limitLevel': None, 'stopDistance': None, 'limitDistance': None, 'guaranteedStop': False, 'trailingStop': False, 'profit': None, 'profitCurrency': None}\n"
     ]
    }
   ],
   "source": [
    "def check_order_status(deal_reference):\n",
    "    url = f\"https://demo-api.ig.com/gateway/deal/confirms/{deal_reference}\"\n",
    "\n",
    "    headers = {\n",
    "        \"X-IG-API-KEY\": os.getenv(\"SIM_IG_API_KEY\"),\n",
    "        \"CST\": os.getenv(\"SIM_IG_CST\"),\n",
    "        \"X-SECURITY-TOKEN\": os.getenv(\"SIM_IG_TOKEN\"),\n",
    "        \"Accept\": \"application/json; charset=UTF-8\",\n",
    "        \"Version\": \"1\"\n",
    "    }\n",
    "\n",
    "    response = requests.get(url, headers=headers)\n",
    "\n",
    "    if response.status_code == 200:\n",
    "        print(\"✅ 查詢訂單成功！\")\n",
    "        print(\"📋 訂單結果：\", response.json())\n",
    "    else:\n",
    "        print(\"❌ 查詢失敗\")\n",
    "        print(\"回傳：\", response.status_code, response.text)\n",
    "\n",
    "# 執行\n",
    "check_order_status(\"cfd-test-gold-order\")\n"
   ]
  },
  {
   "cell_type": "code",
   "execution_count": 58,
   "id": "f3f18f95-a251-4299-95b3-89924d3bb995",
   "metadata": {},
   "outputs": [
    {
     "name": "stdout",
     "output_type": "stream",
     "text": [
      "\u001b[31mERROR: Could not find a version that satisfies the requirement open-interpreter (from versions: none)\u001b[0m\n",
      "\u001b[31mERROR: No matching distribution found for open-interpreter\u001b[0m\n"
     ]
    }
   ],
   "source": [
    "!pip install open-interpreter --upgrade\n"
   ]
  },
  {
   "cell_type": "code",
   "execution_count": 59,
   "id": "b875304c-0972-4e8d-a24e-a83e3f33b10b",
   "metadata": {},
   "outputs": [
    {
     "name": "stdout",
     "output_type": "stream",
     "text": [
      "/bin/bash: python: command not found\n"
     ]
    }
   ],
   "source": [
    "!python --version\n"
   ]
  },
  {
   "cell_type": "code",
   "execution_count": 60,
   "id": "f1e38a54-6035-46fa-9682-ceaedcd38ba0",
   "metadata": {},
   "outputs": [
    {
     "name": "stdout",
     "output_type": "stream",
     "text": [
      "Python 3.8.10\n"
     ]
    }
   ],
   "source": [
    "!python3 --version\n"
   ]
  },
  {
   "cell_type": "code",
   "execution_count": 61,
   "id": "b3fa3ed4-2b84-49dc-9cce-a66ac439921c",
   "metadata": {},
   "outputs": [
    {
     "name": "stdout",
     "output_type": "stream",
     "text": [
      "Collecting git+https://github.com/KillianLucas/open-interpreter.git\n",
      "  Cloning https://github.com/KillianLucas/open-interpreter.git to /tmp/pip-req-build-n4xfxy23\n",
      "  Running command git clone -q https://github.com/KillianLucas/open-interpreter.git /tmp/pip-req-build-n4xfxy23\n",
      "  Installing build dependencies ... \u001b[?25ldone\n",
      "\u001b[?25h  Getting requirements to build wheel ... \u001b[?25ldone\n",
      "\u001b[?25h    Preparing wheel metadata ... \u001b[?25ldone\n",
      "\u001b[31mERROR: Package 'open-interpreter-0.4.3' requires a different Python: 3.8.10 not in '>=3.9,<4'\u001b[0m\n",
      "\u001b[?25h"
     ]
    }
   ],
   "source": [
    "!pip3 install git+https://github.com/KillianLucas/open-interpreter.git\n"
   ]
  },
  {
   "cell_type": "code",
   "execution_count": 62,
   "id": "e214aafc-994a-47e3-9776-de7830821a72",
   "metadata": {},
   "outputs": [
    {
     "ename": "SyntaxError",
     "evalue": "invalid syntax (462961668.py, line 2)",
     "output_type": "error",
     "traceback": [
      "\u001b[0;36m  Cell \u001b[0;32mIn[62], line 2\u001b[0;36m\u001b[0m\n\u001b[0;31m    sudo apt update\u001b[0m\n\u001b[0m         ^\u001b[0m\n\u001b[0;31mSyntaxError\u001b[0m\u001b[0;31m:\u001b[0m invalid syntax\n"
     ]
    }
   ],
   "source": [
    "# 安裝 Python 3.9\n",
    "sudo apt update\n",
    "sudo apt install python3.9 python3.9-venv python3.9-dev\n",
    "\n",
    "# 建立 virtualenv\n",
    "python3.9 -m venv openai_env\n",
    "source openai_env/bin/activate\n",
    "\n",
    "# 安裝 pip & 升級\n",
    "pip install --upgrade pip\n",
    "\n",
    "# 再執行安裝 open-interpreter\n",
    "pip install git+https://github.com/KillianLucas/open-interpreter.git\n"
   ]
  },
  {
   "cell_type": "code",
   "execution_count": 63,
   "id": "4dfcae7b-b907-490a-bbc5-3d0047b07153",
   "metadata": {},
   "outputs": [
    {
     "name": "stdout",
     "output_type": "stream",
     "text": [
      "Hit:1 http://asia-east1.gce.archive.ubuntu.com/ubuntu focal InRelease\n",
      "Hit:2 http://asia-east1.gce.archive.ubuntu.com/ubuntu focal-updates InRelease\n",
      "Hit:3 http://asia-east1.gce.archive.ubuntu.com/ubuntu focal-backports InRelease\u001b[0m\n",
      "Hit:4 https://packages.cloud.google.com/apt google-cloud-ops-agent-focal-2 InRelease\n",
      "Hit:5 http://security.ubuntu.com/ubuntu focal-security InRelease           \u001b[0m\u001b[33m\n",
      "Hit:6 http://ppa.launchpad.net/deadsnakes/ppa/ubuntu focal InRelease       \n",
      "Reading package lists... Done\n",
      "Building dependency tree       \n",
      "Reading state information... Done\n",
      "2 packages can be upgraded. Run 'apt list --upgradable' to see them.\n",
      "Reading package lists... Done\n",
      "Building dependency tree       \n",
      "Reading state information... Done\n",
      "The following additional packages will be installed:\n",
      "  libpython3.9 libpython3.9-dev libpython3.9-minimal libpython3.9-stdlib\n",
      "  python3.9-minimal\n",
      "Suggested packages:\n",
      "  binfmt-support\n",
      "The following NEW packages will be installed:\n",
      "  libpython3.9 libpython3.9-dev libpython3.9-minimal libpython3.9-stdlib\n",
      "  python3.9 python3.9-dev python3.9-minimal python3.9-venv\n",
      "0 upgraded, 8 newly installed, 0 to remove and 2 not upgraded.\n",
      "Need to get 13.7 MB of archives.\n",
      "After this operation, 49.5 MB of additional disk space will be used.\n",
      "Get:1 http://ppa.launchpad.net/deadsnakes/ppa/ubuntu focal/main amd64 libpython3.9-minimal amd64 3.9.21-1+focal1 [808 kB]\n",
      "Get:2 http://ppa.launchpad.net/deadsnakes/ppa/ubuntu focal/main amd64 python3.9-minimal amd64 3.9.21-1+focal1 [2063 kB]\n",
      "Get:3 http://ppa.launchpad.net/deadsnakes/ppa/ubuntu focal/main amd64 libpython3.9-stdlib amd64 3.9.21-1+focal1 [1665 kB]\n",
      "Get:4 http://ppa.launchpad.net/deadsnakes/ppa/ubuntu focal/main amd64 libpython3.9 amd64 3.9.21-1+focal1 [1715 kB]\n",
      "Get:5 http://ppa.launchpad.net/deadsnakes/ppa/ubuntu focal/main amd64 libpython3.9-dev amd64 3.9.21-1+focal1 [4198 kB]\n",
      "Get:6 http://ppa.launchpad.net/deadsnakes/ppa/ubuntu focal/main amd64 python3.9 amd64 3.9.21-1+focal1 [91.4 kB]\n",
      "Get:7 http://ppa.launchpad.net/deadsnakes/ppa/ubuntu focal/main amd64 python3.9-dev amd64 3.9.21-1+focal1 [501 kB]\n",
      "Get:8 http://ppa.launchpad.net/deadsnakes/ppa/ubuntu focal/main amd64 python3.9-venv amd64 3.9.21-1+focal1 [2665 kB]\n",
      "Fetched 13.7 MB in 3s (4180 kB/s)       \u001b[0m\u001b[33m\n",
      "\n",
      "\u001b7\u001b[0;23r\u001b8\u001b[1ASelecting previously unselected package libpython3.9-minimal:amd64.\n",
      "(Reading database ... 69660 files and directories currently installed.)\n",
      "Preparing to unpack .../0-libpython3.9-minimal_3.9.21-1+focal1_amd64.deb ...\n",
      "\u001b7\u001b[24;0f\u001b[42m\u001b[30mProgress: [  0%]\u001b[49m\u001b[39m [..........................................................] \u001b8\u001b7\u001b[24;0f\u001b[42m\u001b[30mProgress: [  3%]\u001b[49m\u001b[39m [#.........................................................] \u001b8Unpacking libpython3.9-minimal:amd64 (3.9.21-1+focal1) ...\n",
      "\u001b7\u001b[24;0f\u001b[42m\u001b[30mProgress: [  6%]\u001b[49m\u001b[39m [###.......................................................] \u001b8Selecting previously unselected package python3.9-minimal.\n",
      "Preparing to unpack .../1-python3.9-minimal_3.9.21-1+focal1_amd64.deb ...\n",
      "\u001b7\u001b[24;0f\u001b[42m\u001b[30mProgress: [  9%]\u001b[49m\u001b[39m [#####.....................................................] \u001b8Unpacking python3.9-minimal (3.9.21-1+focal1) ...\n",
      "\u001b7\u001b[24;0f\u001b[42m\u001b[30mProgress: [ 12%]\u001b[49m\u001b[39m [#######...................................................] \u001b8Selecting previously unselected package libpython3.9-stdlib:amd64.\n",
      "Preparing to unpack .../2-libpython3.9-stdlib_3.9.21-1+focal1_amd64.deb ...\n",
      "\u001b7\u001b[24;0f\u001b[42m\u001b[30mProgress: [ 15%]\u001b[49m\u001b[39m [########..................................................] \u001b8Unpacking libpython3.9-stdlib:amd64 (3.9.21-1+focal1) ...\n",
      "\u001b7\u001b[24;0f\u001b[42m\u001b[30mProgress: [ 18%]\u001b[49m\u001b[39m [##########................................................] \u001b8Selecting previously unselected package libpython3.9:amd64.\n",
      "Preparing to unpack .../3-libpython3.9_3.9.21-1+focal1_amd64.deb ...\n",
      "\u001b7\u001b[24;0f\u001b[42m\u001b[30mProgress: [ 21%]\u001b[49m\u001b[39m [############..............................................] \u001b8Unpacking libpython3.9:amd64 (3.9.21-1+focal1) ...\n",
      "\u001b7\u001b[24;0f\u001b[42m\u001b[30mProgress: [ 24%]\u001b[49m\u001b[39m [##############............................................] \u001b8Selecting previously unselected package libpython3.9-dev:amd64.\n",
      "Preparing to unpack .../4-libpython3.9-dev_3.9.21-1+focal1_amd64.deb ...\n",
      "\u001b7\u001b[24;0f\u001b[42m\u001b[30mProgress: [ 27%]\u001b[49m\u001b[39m [###############...........................................] \u001b8Unpacking libpython3.9-dev:amd64 (3.9.21-1+focal1) ...\n",
      "\u001b7\u001b[24;0f\u001b[42m\u001b[30mProgress: [ 30%]\u001b[49m\u001b[39m [#################.........................................] \u001b8Selecting previously unselected package python3.9.\n",
      "Preparing to unpack .../5-python3.9_3.9.21-1+focal1_amd64.deb ...\n",
      "\u001b7\u001b[24;0f\u001b[42m\u001b[30mProgress: [ 33%]\u001b[49m\u001b[39m [###################.......................................] \u001b8Unpacking python3.9 (3.9.21-1+focal1) ...\n",
      "\u001b7\u001b[24;0f\u001b[42m\u001b[30mProgress: [ 36%]\u001b[49m\u001b[39m [#####################.....................................] \u001b8Selecting previously unselected package python3.9-dev.\n",
      "Preparing to unpack .../6-python3.9-dev_3.9.21-1+focal1_amd64.deb ...\n",
      "\u001b7\u001b[24;0f\u001b[42m\u001b[30mProgress: [ 39%]\u001b[49m\u001b[39m [######################....................................] \u001b8Unpacking python3.9-dev (3.9.21-1+focal1) ...\n",
      "\u001b7\u001b[24;0f\u001b[42m\u001b[30mProgress: [ 42%]\u001b[49m\u001b[39m [########################..................................] \u001b8Selecting previously unselected package python3.9-venv.\n",
      "Preparing to unpack .../7-python3.9-venv_3.9.21-1+focal1_amd64.deb ...\n",
      "\u001b7\u001b[24;0f\u001b[42m\u001b[30mProgress: [ 45%]\u001b[49m\u001b[39m [##########################................................] \u001b8Unpacking python3.9-venv (3.9.21-1+focal1) ...\n",
      "\u001b7\u001b[24;0f\u001b[42m\u001b[30mProgress: [ 48%]\u001b[49m\u001b[39m [############################..............................] \u001b8Setting up libpython3.9-minimal:amd64 (3.9.21-1+focal1) ...\n",
      "\u001b7\u001b[24;0f\u001b[42m\u001b[30mProgress: [ 52%]\u001b[49m\u001b[39m [#############################.............................] \u001b8\u001b7\u001b[24;0f\u001b[42m\u001b[30mProgress: [ 55%]\u001b[49m\u001b[39m [###############################...........................] \u001b8Setting up python3.9-minimal (3.9.21-1+focal1) ...\n",
      "\u001b7\u001b[24;0f\u001b[42m\u001b[30mProgress: [ 58%]\u001b[49m\u001b[39m [#################################.........................] \u001b8\u001b7\u001b[24;0f\u001b[42m\u001b[30mProgress: [ 61%]\u001b[49m\u001b[39m [###################################.......................] \u001b8Setting up libpython3.9-stdlib:amd64 (3.9.21-1+focal1) ...\n",
      "\u001b7\u001b[24;0f\u001b[42m\u001b[30mProgress: [ 64%]\u001b[49m\u001b[39m [####################################......................] \u001b8\u001b7\u001b[24;0f\u001b[42m\u001b[30mProgress: [ 67%]\u001b[49m\u001b[39m [######################################....................] \u001b8Setting up libpython3.9:amd64 (3.9.21-1+focal1) ...\n",
      "\u001b7\u001b[24;0f\u001b[42m\u001b[30mProgress: [ 70%]\u001b[49m\u001b[39m [########################################..................] \u001b8\u001b7\u001b[24;0f\u001b[42m\u001b[30mProgress: [ 73%]\u001b[49m\u001b[39m [##########################################................] \u001b8Setting up python3.9 (3.9.21-1+focal1) ...\n",
      "\u001b7\u001b[24;0f\u001b[42m\u001b[30mProgress: [ 76%]\u001b[49m\u001b[39m [###########################################...............] \u001b8\u001b7\u001b[24;0f\u001b[42m\u001b[30mProgress: [ 79%]\u001b[49m\u001b[39m [#############################################.............] \u001b8Setting up libpython3.9-dev:amd64 (3.9.21-1+focal1) ...\n",
      "\u001b7\u001b[24;0f\u001b[42m\u001b[30mProgress: [ 82%]\u001b[49m\u001b[39m [###############################################...........] \u001b8\u001b7\u001b[24;0f\u001b[42m\u001b[30mProgress: [ 85%]\u001b[49m\u001b[39m [#################################################.........] \u001b8Setting up python3.9-dev (3.9.21-1+focal1) ...\n",
      "\u001b7\u001b[24;0f\u001b[42m\u001b[30mProgress: [ 88%]\u001b[49m\u001b[39m [##################################################........] \u001b8\u001b7\u001b[24;0f\u001b[42m\u001b[30mProgress: [ 91%]\u001b[49m\u001b[39m [####################################################......] \u001b8Setting up python3.9-venv (3.9.21-1+focal1) ...\n",
      "\u001b7\u001b[24;0f\u001b[42m\u001b[30mProgress: [ 94%]\u001b[49m\u001b[39m [######################################################....] \u001b8\u001b7\u001b[24;0f\u001b[42m\u001b[30mProgress: [ 97%]\u001b[49m\u001b[39m [########################################################..] \u001b8Processing triggers for man-db (2.9.1-1) ...\n",
      "Processing triggers for mime-support (3.64ubuntu1) ...\n",
      "\n",
      "\u001b7\u001b[0;24r\u001b8\u001b[1A\u001b[J"
     ]
    }
   ],
   "source": [
    "# 安裝 Python 3.9\n",
    "!sudo apt update\n",
    "!sudo apt install -y python3.9 python3.9-venv python3.9-dev\n",
    "\n",
    "# 建立 virtualenv\n",
    "!python3.9 -m venv openai_env\n",
    "\n",
    "# 啟用 virtualenv（注意：這行不能直接用在 Notebook，但可在 SSH 終端執行）\n",
    "# !source openai_env/bin/activate\n",
    "\n",
    "# 使用 virtualenv 的 pip 安裝 open-interpreter（此行應在終端機操作）\n",
    "# !openai_env/bin/pip install --upgrade pip\n",
    "# !openai_env/bin/pip install git+https://github.com/KillianLucas/open-interpreter.git\n"
   ]
  },
  {
   "cell_type": "code",
   "execution_count": 64,
   "id": "e2e0ee26-f60d-455d-84e3-df991217ff03",
   "metadata": {},
   "outputs": [
    {
     "name": "stdout",
     "output_type": "stream",
     "text": [
      "ls: cannot access '/home/hmtf000001/.local/bin/open-interpreter': No such file or directory\n"
     ]
    }
   ],
   "source": [
    "ls ~/.local/bin/open-interpreter\n"
   ]
  },
  {
   "cell_type": "code",
   "execution_count": 65,
   "id": "51652a30-d325-418a-a7e2-c6b3477161ea",
   "metadata": {},
   "outputs": [
    {
     "name": "stdout",
     "output_type": "stream",
     "text": [
      "\u001b[0m\u001b[01;32m/home/hmtf000001/openai_env/bin/openai\u001b[0m*\n"
     ]
    }
   ],
   "source": [
    "ls ~/openai_env/bin/open*\n"
   ]
  },
  {
   "cell_type": "code",
   "execution_count": 66,
   "id": "7b9c792d-ac93-4bb4-aed2-1e9061565982",
   "metadata": {},
   "outputs": [
    {
     "ename": "ModuleNotFoundError",
     "evalue": "No module named 'openinterpreter'",
     "output_type": "error",
     "traceback": [
      "\u001b[0;31m---------------------------------------------------------------------------\u001b[0m",
      "\u001b[0;31mModuleNotFoundError\u001b[0m                       Traceback (most recent call last)",
      "Cell \u001b[0;32mIn[66], line 1\u001b[0m\n\u001b[0;32m----> 1\u001b[0m \u001b[38;5;28;01mfrom\u001b[39;00m\u001b[38;5;250m \u001b[39m\u001b[38;5;21;01mopeninterpreter\u001b[39;00m\u001b[38;5;250m \u001b[39m\u001b[38;5;28;01mimport\u001b[39;00m chat\n\u001b[1;32m      3\u001b[0m chat(\u001b[38;5;124m\"\u001b[39m\u001b[38;5;124m請介紹一下你自己\u001b[39m\u001b[38;5;124m\"\u001b[39m)\n",
      "\u001b[0;31mModuleNotFoundError\u001b[0m: No module named 'openinterpreter'"
     ]
    }
   ],
   "source": [
    "from openinterpreter import chat\n",
    "\n",
    "chat(\"請介紹一下你自己\")\n"
   ]
  },
  {
   "cell_type": "code",
   "execution_count": 1,
   "id": "cf63c864-6a1c-41f1-92cc-993f2e2211e6",
   "metadata": {},
   "outputs": [
    {
     "ename": "ModuleNotFoundError",
     "evalue": "No module named 'openinterpreter'",
     "output_type": "error",
     "traceback": [
      "\u001b[0;31m---------------------------------------------------------------------------\u001b[0m",
      "\u001b[0;31mModuleNotFoundError\u001b[0m                       Traceback (most recent call last)",
      "Cell \u001b[0;32mIn[1], line 1\u001b[0m\n\u001b[0;32m----> 1\u001b[0m \u001b[38;5;28;01mfrom\u001b[39;00m\u001b[38;5;250m \u001b[39m\u001b[38;5;21;01mopeninterpreter\u001b[39;00m\u001b[38;5;250m \u001b[39m\u001b[38;5;28;01mimport\u001b[39;00m chat\n\u001b[1;32m      3\u001b[0m chat(\u001b[38;5;124m\"\u001b[39m\u001b[38;5;124m你好，我想認識你。\u001b[39m\u001b[38;5;124m\"\u001b[39m)\n",
      "\u001b[0;31mModuleNotFoundError\u001b[0m: No module named 'openinterpreter'"
     ]
    }
   ],
   "source": [
    "from openinterpreter import chat\n",
    "\n",
    "chat(\"你好，我想認識你。\")\n"
   ]
  },
  {
   "cell_type": "code",
   "execution_count": 1,
   "id": "106e5c33-8050-4677-9749-7e627e212bb8",
   "metadata": {},
   "outputs": [
    {
     "ename": "ModuleNotFoundError",
     "evalue": "No module named 'openinterpreter'",
     "output_type": "error",
     "traceback": [
      "\u001b[0;31m---------------------------------------------------------------------------\u001b[0m",
      "\u001b[0;31mModuleNotFoundError\u001b[0m                       Traceback (most recent call last)",
      "Cell \u001b[0;32mIn[1], line 1\u001b[0m\n\u001b[0;32m----> 1\u001b[0m \u001b[38;5;28;01mfrom\u001b[39;00m\u001b[38;5;250m \u001b[39m\u001b[38;5;21;01mopeninterpreter\u001b[39;00m\u001b[38;5;250m \u001b[39m\u001b[38;5;28;01mimport\u001b[39;00m chat\n\u001b[1;32m      3\u001b[0m chat(\u001b[38;5;124m\"\u001b[39m\u001b[38;5;124m你好，我是 Open Interpreter，請問要我做咩？\u001b[39m\u001b[38;5;124m\"\u001b[39m)\n",
      "\u001b[0;31mModuleNotFoundError\u001b[0m: No module named 'openinterpreter'"
     ]
    }
   ],
   "source": [
    "from openinterpreter import chat\n",
    "\n",
    "chat(\"你好，我是 Open Interpreter，請問要我做咩？\")\n"
   ]
  },
  {
   "cell_type": "code",
   "execution_count": 2,
   "id": "6785a96a-14f8-4a0f-a71a-170f111917f7",
   "metadata": {},
   "outputs": [],
   "source": [
    "import requests\n",
    "import json\n",
    "\n",
    "def place_order(api_key, cst, x_security_token, account_id=\"Z4BV5B\"):\n",
    "    url = \"https://demo-api.ig.com/gateway/deal/positions/otc\"\n",
    "    \n",
    "    headers = {\n",
    "        \"X-IG-API-KEY\": api_key,\n",
    "        \"CST\": cst,\n",
    "        \"X-SECURITY-TOKEN\": x_security_token,\n",
    "        \"Content-Type\": \"application/json\",\n",
    "        \"Version\": \"2\"\n",
    "    }\n",
    "\n",
    "    payload = {\n",
    "        \"epic\": \"CS.D.CFDGOLD.CFDGC.IP\",     # 黃金 CFD 商品\n",
    "        \"expiry\": \"-\",                       # 即市單\n",
    "        \"direction\": \"BUY\",                  # 做多\n",
    "        \"size\": 0.5,                         # 0.5手\n",
    "        \"orderType\": \"MARKET\",               # 市價單\n",
    "        \"quoteId\": None,                     # ✅ 強制 null\n",
    "        \"level\": None,\n",
    "        \"limitDistance\": None,\n",
    "        \"stopDistance\": None,\n",
    "        \"guaranteedStop\": False,\n",
    "        \"forceOpen\": True,\n",
    "        \"currencyCode\": \"USD\",\n",
    "        \"accountId\": account_id              # ✅ 指定 CFD 帳號\n",
    "    }\n",
    "\n",
    "    print(\"🚀 正在發送訂單請求...\")\n",
    "    response = requests.post(url, headers=headers, data=json.dumps(payload))\n",
    "\n",
    "    try:\n",
    "        data = response.json()\n",
    "        print(\"✅ 回應內容：\")\n",
    "        print(json.dumps(data, indent=2))\n",
    "    except Exception as e:\n",
    "        print(\"❌ 回應解析錯誤：\", response.text)\n",
    "\n",
    "    if response.status_code != 200:\n",
    "        print(f\"⚠️ HTTP 錯誤碼：{response.status_code}\")\n",
    "    else:\n",
    "        print(\"✅ 已成功送出請求。\")\n",
    "\n"
   ]
  },
  {
   "cell_type": "code",
   "execution_count": 3,
   "id": "a6f9da3c-822c-4778-b8d7-6eb40bd93a18",
   "metadata": {},
   "outputs": [
    {
     "ename": "SyntaxError",
     "evalue": "invalid syntax (3308667942.py, line 1)",
     "output_type": "error",
     "traceback": [
      "\u001b[0;36m  Cell \u001b[0;32mIn[3], line 1\u001b[0;36m\u001b[0m\n\u001b[0;31m    curl -X POST \"https://demo-api.ig.com/gateway/deal/positions/otc\" \\\u001b[0m\n\u001b[0m            ^\u001b[0m\n\u001b[0;31mSyntaxError\u001b[0m\u001b[0;31m:\u001b[0m invalid syntax\n"
     ]
    }
   ],
   "source": [
    "curl -X POST \"https://demo-api.ig.com/gateway/deal/positions/otc\" \\\n",
    "-H \"X-IG-API-KEY: YOUR_API_KEY\" \\\n",
    "-H \"CST: YOUR_CST\" \\\n",
    "-H \"X-SECURITY-TOKEN: YOUR_TOKEN\" \\\n",
    "-H \"Content-Type: application/json\" \\\n",
    "-H \"Version: 2\" \\\n",
    "-d '{\n",
    "  \"epic\": \"CS.D.CFDGOLD.CFDGC.IP\",\n",
    "  \"expiry\": \"-\",\n",
    "  \"direction\": \"BUY\",\n",
    "  \"size\": 0.5,\n",
    "  \"orderType\": \"MARKET\",\n",
    "  \"quoteId\": null,\n",
    "  \"currencyCode\": \"USD\",\n",
    "  \"accountId\": \"Z4BV5B\"\n",
    "}'\n"
   ]
  },
  {
   "cell_type": "code",
   "execution_count": 4,
   "id": "4abb1427-38a6-4b03-8ebe-d27578a2beb5",
   "metadata": {},
   "outputs": [
    {
     "name": "stdout",
     "output_type": "stream",
     "text": [
      "🚀 正在發送訂單請求...\n"
     ]
    },
    {
     "ename": "UnicodeEncodeError",
     "evalue": "'latin-1' codec can't encode characters in position 0-1: ordinal not in range(256)",
     "output_type": "error",
     "traceback": [
      "\u001b[0;31m---------------------------------------------------------------------------\u001b[0m",
      "\u001b[0;31mUnicodeEncodeError\u001b[0m                        Traceback (most recent call last)",
      "Cell \u001b[0;32mIn[4], line 1\u001b[0m\n\u001b[0;32m----> 1\u001b[0m \u001b[43mplace_order\u001b[49m\u001b[43m(\u001b[49m\u001b[43mapi_key\u001b[49m\u001b[38;5;241;43m=\u001b[39;49m\u001b[38;5;124;43m\"\u001b[39;49m\u001b[38;5;124;43m你的KEY\u001b[39;49m\u001b[38;5;124;43m\"\u001b[39;49m\u001b[43m,\u001b[49m\u001b[43m \u001b[49m\u001b[43mcst\u001b[49m\u001b[38;5;241;43m=\u001b[39;49m\u001b[38;5;124;43m\"\u001b[39;49m\u001b[38;5;124;43m你的CST\u001b[39;49m\u001b[38;5;124;43m\"\u001b[39;49m\u001b[43m,\u001b[49m\u001b[43m \u001b[49m\u001b[43mx_security_token\u001b[49m\u001b[38;5;241;43m=\u001b[39;49m\u001b[38;5;124;43m\"\u001b[39;49m\u001b[38;5;124;43m你的TOKEN\u001b[39;49m\u001b[38;5;124;43m\"\u001b[39;49m\u001b[43m)\u001b[49m\n",
      "Cell \u001b[0;32mIn[2], line 32\u001b[0m, in \u001b[0;36mplace_order\u001b[0;34m(api_key, cst, x_security_token, account_id)\u001b[0m\n\u001b[1;32m     15\u001b[0m payload \u001b[38;5;241m=\u001b[39m {\n\u001b[1;32m     16\u001b[0m     \u001b[38;5;124m\"\u001b[39m\u001b[38;5;124mepic\u001b[39m\u001b[38;5;124m\"\u001b[39m: \u001b[38;5;124m\"\u001b[39m\u001b[38;5;124mCS.D.CFDGOLD.CFDGC.IP\u001b[39m\u001b[38;5;124m\"\u001b[39m,     \u001b[38;5;66;03m# 黃金 CFD 商品\u001b[39;00m\n\u001b[1;32m     17\u001b[0m     \u001b[38;5;124m\"\u001b[39m\u001b[38;5;124mexpiry\u001b[39m\u001b[38;5;124m\"\u001b[39m: \u001b[38;5;124m\"\u001b[39m\u001b[38;5;124m-\u001b[39m\u001b[38;5;124m\"\u001b[39m,                       \u001b[38;5;66;03m# 即市單\u001b[39;00m\n\u001b[0;32m   (...)\u001b[0m\n\u001b[1;32m     28\u001b[0m     \u001b[38;5;124m\"\u001b[39m\u001b[38;5;124maccountId\u001b[39m\u001b[38;5;124m\"\u001b[39m: account_id              \u001b[38;5;66;03m# ✅ 指定 CFD 帳號\u001b[39;00m\n\u001b[1;32m     29\u001b[0m }\n\u001b[1;32m     31\u001b[0m \u001b[38;5;28mprint\u001b[39m(\u001b[38;5;124m\"\u001b[39m\u001b[38;5;124m🚀 正在發送訂單請求...\u001b[39m\u001b[38;5;124m\"\u001b[39m)\n\u001b[0;32m---> 32\u001b[0m response \u001b[38;5;241m=\u001b[39m \u001b[43mrequests\u001b[49m\u001b[38;5;241;43m.\u001b[39;49m\u001b[43mpost\u001b[49m\u001b[43m(\u001b[49m\u001b[43murl\u001b[49m\u001b[43m,\u001b[49m\u001b[43m \u001b[49m\u001b[43mheaders\u001b[49m\u001b[38;5;241;43m=\u001b[39;49m\u001b[43mheaders\u001b[49m\u001b[43m,\u001b[49m\u001b[43m \u001b[49m\u001b[43mdata\u001b[49m\u001b[38;5;241;43m=\u001b[39;49m\u001b[43mjson\u001b[49m\u001b[38;5;241;43m.\u001b[39;49m\u001b[43mdumps\u001b[49m\u001b[43m(\u001b[49m\u001b[43mpayload\u001b[49m\u001b[43m)\u001b[49m\u001b[43m)\u001b[49m\n\u001b[1;32m     34\u001b[0m \u001b[38;5;28;01mtry\u001b[39;00m:\n\u001b[1;32m     35\u001b[0m     data \u001b[38;5;241m=\u001b[39m response\u001b[38;5;241m.\u001b[39mjson()\n",
      "File \u001b[0;32m~/openai_env/lib/python3.9/site-packages/requests/api.py:115\u001b[0m, in \u001b[0;36mpost\u001b[0;34m(url, data, json, **kwargs)\u001b[0m\n\u001b[1;32m    103\u001b[0m \u001b[38;5;28;01mdef\u001b[39;00m\u001b[38;5;250m \u001b[39m\u001b[38;5;21mpost\u001b[39m(url, data\u001b[38;5;241m=\u001b[39m\u001b[38;5;28;01mNone\u001b[39;00m, json\u001b[38;5;241m=\u001b[39m\u001b[38;5;28;01mNone\u001b[39;00m, \u001b[38;5;241m*\u001b[39m\u001b[38;5;241m*\u001b[39mkwargs):\n\u001b[1;32m    104\u001b[0m \u001b[38;5;250m    \u001b[39m\u001b[38;5;124mr\u001b[39m\u001b[38;5;124;03m\"\"\"Sends a POST request.\u001b[39;00m\n\u001b[1;32m    105\u001b[0m \n\u001b[1;32m    106\u001b[0m \u001b[38;5;124;03m    :param url: URL for the new :class:`Request` object.\u001b[39;00m\n\u001b[0;32m   (...)\u001b[0m\n\u001b[1;32m    112\u001b[0m \u001b[38;5;124;03m    :rtype: requests.Response\u001b[39;00m\n\u001b[1;32m    113\u001b[0m \u001b[38;5;124;03m    \"\"\"\u001b[39;00m\n\u001b[0;32m--> 115\u001b[0m     \u001b[38;5;28;01mreturn\u001b[39;00m \u001b[43mrequest\u001b[49m\u001b[43m(\u001b[49m\u001b[38;5;124;43m\"\u001b[39;49m\u001b[38;5;124;43mpost\u001b[39;49m\u001b[38;5;124;43m\"\u001b[39;49m\u001b[43m,\u001b[49m\u001b[43m \u001b[49m\u001b[43murl\u001b[49m\u001b[43m,\u001b[49m\u001b[43m \u001b[49m\u001b[43mdata\u001b[49m\u001b[38;5;241;43m=\u001b[39;49m\u001b[43mdata\u001b[49m\u001b[43m,\u001b[49m\u001b[43m \u001b[49m\u001b[43mjson\u001b[49m\u001b[38;5;241;43m=\u001b[39;49m\u001b[43mjson\u001b[49m\u001b[43m,\u001b[49m\u001b[43m \u001b[49m\u001b[38;5;241;43m*\u001b[39;49m\u001b[38;5;241;43m*\u001b[39;49m\u001b[43mkwargs\u001b[49m\u001b[43m)\u001b[49m\n",
      "File \u001b[0;32m~/openai_env/lib/python3.9/site-packages/requests/api.py:59\u001b[0m, in \u001b[0;36mrequest\u001b[0;34m(method, url, **kwargs)\u001b[0m\n\u001b[1;32m     55\u001b[0m \u001b[38;5;66;03m# By using the 'with' statement we are sure the session is closed, thus we\u001b[39;00m\n\u001b[1;32m     56\u001b[0m \u001b[38;5;66;03m# avoid leaving sockets open which can trigger a ResourceWarning in some\u001b[39;00m\n\u001b[1;32m     57\u001b[0m \u001b[38;5;66;03m# cases, and look like a memory leak in others.\u001b[39;00m\n\u001b[1;32m     58\u001b[0m \u001b[38;5;28;01mwith\u001b[39;00m sessions\u001b[38;5;241m.\u001b[39mSession() \u001b[38;5;28;01mas\u001b[39;00m session:\n\u001b[0;32m---> 59\u001b[0m     \u001b[38;5;28;01mreturn\u001b[39;00m \u001b[43msession\u001b[49m\u001b[38;5;241;43m.\u001b[39;49m\u001b[43mrequest\u001b[49m\u001b[43m(\u001b[49m\u001b[43mmethod\u001b[49m\u001b[38;5;241;43m=\u001b[39;49m\u001b[43mmethod\u001b[49m\u001b[43m,\u001b[49m\u001b[43m \u001b[49m\u001b[43murl\u001b[49m\u001b[38;5;241;43m=\u001b[39;49m\u001b[43murl\u001b[49m\u001b[43m,\u001b[49m\u001b[43m \u001b[49m\u001b[38;5;241;43m*\u001b[39;49m\u001b[38;5;241;43m*\u001b[39;49m\u001b[43mkwargs\u001b[49m\u001b[43m)\u001b[49m\n",
      "File \u001b[0;32m~/openai_env/lib/python3.9/site-packages/requests/sessions.py:589\u001b[0m, in \u001b[0;36mSession.request\u001b[0;34m(self, method, url, params, data, headers, cookies, files, auth, timeout, allow_redirects, proxies, hooks, stream, verify, cert, json)\u001b[0m\n\u001b[1;32m    584\u001b[0m send_kwargs \u001b[38;5;241m=\u001b[39m {\n\u001b[1;32m    585\u001b[0m     \u001b[38;5;124m\"\u001b[39m\u001b[38;5;124mtimeout\u001b[39m\u001b[38;5;124m\"\u001b[39m: timeout,\n\u001b[1;32m    586\u001b[0m     \u001b[38;5;124m\"\u001b[39m\u001b[38;5;124mallow_redirects\u001b[39m\u001b[38;5;124m\"\u001b[39m: allow_redirects,\n\u001b[1;32m    587\u001b[0m }\n\u001b[1;32m    588\u001b[0m send_kwargs\u001b[38;5;241m.\u001b[39mupdate(settings)\n\u001b[0;32m--> 589\u001b[0m resp \u001b[38;5;241m=\u001b[39m \u001b[38;5;28;43mself\u001b[39;49m\u001b[38;5;241;43m.\u001b[39;49m\u001b[43msend\u001b[49m\u001b[43m(\u001b[49m\u001b[43mprep\u001b[49m\u001b[43m,\u001b[49m\u001b[43m \u001b[49m\u001b[38;5;241;43m*\u001b[39;49m\u001b[38;5;241;43m*\u001b[39;49m\u001b[43msend_kwargs\u001b[49m\u001b[43m)\u001b[49m\n\u001b[1;32m    591\u001b[0m \u001b[38;5;28;01mreturn\u001b[39;00m resp\n",
      "File \u001b[0;32m~/openai_env/lib/python3.9/site-packages/requests/sessions.py:703\u001b[0m, in \u001b[0;36mSession.send\u001b[0;34m(self, request, **kwargs)\u001b[0m\n\u001b[1;32m    700\u001b[0m start \u001b[38;5;241m=\u001b[39m preferred_clock()\n\u001b[1;32m    702\u001b[0m \u001b[38;5;66;03m# Send the request\u001b[39;00m\n\u001b[0;32m--> 703\u001b[0m r \u001b[38;5;241m=\u001b[39m \u001b[43madapter\u001b[49m\u001b[38;5;241;43m.\u001b[39;49m\u001b[43msend\u001b[49m\u001b[43m(\u001b[49m\u001b[43mrequest\u001b[49m\u001b[43m,\u001b[49m\u001b[43m \u001b[49m\u001b[38;5;241;43m*\u001b[39;49m\u001b[38;5;241;43m*\u001b[39;49m\u001b[43mkwargs\u001b[49m\u001b[43m)\u001b[49m\n\u001b[1;32m    705\u001b[0m \u001b[38;5;66;03m# Total elapsed time of the request (approximately)\u001b[39;00m\n\u001b[1;32m    706\u001b[0m elapsed \u001b[38;5;241m=\u001b[39m preferred_clock() \u001b[38;5;241m-\u001b[39m start\n",
      "File \u001b[0;32m~/openai_env/lib/python3.9/site-packages/requests/adapters.py:667\u001b[0m, in \u001b[0;36mHTTPAdapter.send\u001b[0;34m(self, request, stream, timeout, verify, cert, proxies)\u001b[0m\n\u001b[1;32m    664\u001b[0m     timeout \u001b[38;5;241m=\u001b[39m TimeoutSauce(connect\u001b[38;5;241m=\u001b[39mtimeout, read\u001b[38;5;241m=\u001b[39mtimeout)\n\u001b[1;32m    666\u001b[0m \u001b[38;5;28;01mtry\u001b[39;00m:\n\u001b[0;32m--> 667\u001b[0m     resp \u001b[38;5;241m=\u001b[39m \u001b[43mconn\u001b[49m\u001b[38;5;241;43m.\u001b[39;49m\u001b[43murlopen\u001b[49m\u001b[43m(\u001b[49m\n\u001b[1;32m    668\u001b[0m \u001b[43m        \u001b[49m\u001b[43mmethod\u001b[49m\u001b[38;5;241;43m=\u001b[39;49m\u001b[43mrequest\u001b[49m\u001b[38;5;241;43m.\u001b[39;49m\u001b[43mmethod\u001b[49m\u001b[43m,\u001b[49m\n\u001b[1;32m    669\u001b[0m \u001b[43m        \u001b[49m\u001b[43murl\u001b[49m\u001b[38;5;241;43m=\u001b[39;49m\u001b[43murl\u001b[49m\u001b[43m,\u001b[49m\n\u001b[1;32m    670\u001b[0m \u001b[43m        \u001b[49m\u001b[43mbody\u001b[49m\u001b[38;5;241;43m=\u001b[39;49m\u001b[43mrequest\u001b[49m\u001b[38;5;241;43m.\u001b[39;49m\u001b[43mbody\u001b[49m\u001b[43m,\u001b[49m\n\u001b[1;32m    671\u001b[0m \u001b[43m        \u001b[49m\u001b[43mheaders\u001b[49m\u001b[38;5;241;43m=\u001b[39;49m\u001b[43mrequest\u001b[49m\u001b[38;5;241;43m.\u001b[39;49m\u001b[43mheaders\u001b[49m\u001b[43m,\u001b[49m\n\u001b[1;32m    672\u001b[0m \u001b[43m        \u001b[49m\u001b[43mredirect\u001b[49m\u001b[38;5;241;43m=\u001b[39;49m\u001b[38;5;28;43;01mFalse\u001b[39;49;00m\u001b[43m,\u001b[49m\n\u001b[1;32m    673\u001b[0m \u001b[43m        \u001b[49m\u001b[43massert_same_host\u001b[49m\u001b[38;5;241;43m=\u001b[39;49m\u001b[38;5;28;43;01mFalse\u001b[39;49;00m\u001b[43m,\u001b[49m\n\u001b[1;32m    674\u001b[0m \u001b[43m        \u001b[49m\u001b[43mpreload_content\u001b[49m\u001b[38;5;241;43m=\u001b[39;49m\u001b[38;5;28;43;01mFalse\u001b[39;49;00m\u001b[43m,\u001b[49m\n\u001b[1;32m    675\u001b[0m \u001b[43m        \u001b[49m\u001b[43mdecode_content\u001b[49m\u001b[38;5;241;43m=\u001b[39;49m\u001b[38;5;28;43;01mFalse\u001b[39;49;00m\u001b[43m,\u001b[49m\n\u001b[1;32m    676\u001b[0m \u001b[43m        \u001b[49m\u001b[43mretries\u001b[49m\u001b[38;5;241;43m=\u001b[39;49m\u001b[38;5;28;43mself\u001b[39;49m\u001b[38;5;241;43m.\u001b[39;49m\u001b[43mmax_retries\u001b[49m\u001b[43m,\u001b[49m\n\u001b[1;32m    677\u001b[0m \u001b[43m        \u001b[49m\u001b[43mtimeout\u001b[49m\u001b[38;5;241;43m=\u001b[39;49m\u001b[43mtimeout\u001b[49m\u001b[43m,\u001b[49m\n\u001b[1;32m    678\u001b[0m \u001b[43m        \u001b[49m\u001b[43mchunked\u001b[49m\u001b[38;5;241;43m=\u001b[39;49m\u001b[43mchunked\u001b[49m\u001b[43m,\u001b[49m\n\u001b[1;32m    679\u001b[0m \u001b[43m    \u001b[49m\u001b[43m)\u001b[49m\n\u001b[1;32m    681\u001b[0m \u001b[38;5;28;01mexcept\u001b[39;00m (ProtocolError, \u001b[38;5;167;01mOSError\u001b[39;00m) \u001b[38;5;28;01mas\u001b[39;00m err:\n\u001b[1;32m    682\u001b[0m     \u001b[38;5;28;01mraise\u001b[39;00m \u001b[38;5;167;01mConnectionError\u001b[39;00m(err, request\u001b[38;5;241m=\u001b[39mrequest)\n",
      "File \u001b[0;32m~/openai_env/lib/python3.9/site-packages/urllib3/connectionpool.py:787\u001b[0m, in \u001b[0;36mHTTPConnectionPool.urlopen\u001b[0;34m(self, method, url, body, headers, retries, redirect, assert_same_host, timeout, pool_timeout, release_conn, chunked, body_pos, preload_content, decode_content, **response_kw)\u001b[0m\n\u001b[1;32m    784\u001b[0m response_conn \u001b[38;5;241m=\u001b[39m conn \u001b[38;5;28;01mif\u001b[39;00m \u001b[38;5;129;01mnot\u001b[39;00m release_conn \u001b[38;5;28;01melse\u001b[39;00m \u001b[38;5;28;01mNone\u001b[39;00m\n\u001b[1;32m    786\u001b[0m \u001b[38;5;66;03m# Make the request on the HTTPConnection object\u001b[39;00m\n\u001b[0;32m--> 787\u001b[0m response \u001b[38;5;241m=\u001b[39m \u001b[38;5;28;43mself\u001b[39;49m\u001b[38;5;241;43m.\u001b[39;49m\u001b[43m_make_request\u001b[49m\u001b[43m(\u001b[49m\n\u001b[1;32m    788\u001b[0m \u001b[43m    \u001b[49m\u001b[43mconn\u001b[49m\u001b[43m,\u001b[49m\n\u001b[1;32m    789\u001b[0m \u001b[43m    \u001b[49m\u001b[43mmethod\u001b[49m\u001b[43m,\u001b[49m\n\u001b[1;32m    790\u001b[0m \u001b[43m    \u001b[49m\u001b[43murl\u001b[49m\u001b[43m,\u001b[49m\n\u001b[1;32m    791\u001b[0m \u001b[43m    \u001b[49m\u001b[43mtimeout\u001b[49m\u001b[38;5;241;43m=\u001b[39;49m\u001b[43mtimeout_obj\u001b[49m\u001b[43m,\u001b[49m\n\u001b[1;32m    792\u001b[0m \u001b[43m    \u001b[49m\u001b[43mbody\u001b[49m\u001b[38;5;241;43m=\u001b[39;49m\u001b[43mbody\u001b[49m\u001b[43m,\u001b[49m\n\u001b[1;32m    793\u001b[0m \u001b[43m    \u001b[49m\u001b[43mheaders\u001b[49m\u001b[38;5;241;43m=\u001b[39;49m\u001b[43mheaders\u001b[49m\u001b[43m,\u001b[49m\n\u001b[1;32m    794\u001b[0m \u001b[43m    \u001b[49m\u001b[43mchunked\u001b[49m\u001b[38;5;241;43m=\u001b[39;49m\u001b[43mchunked\u001b[49m\u001b[43m,\u001b[49m\n\u001b[1;32m    795\u001b[0m \u001b[43m    \u001b[49m\u001b[43mretries\u001b[49m\u001b[38;5;241;43m=\u001b[39;49m\u001b[43mretries\u001b[49m\u001b[43m,\u001b[49m\n\u001b[1;32m    796\u001b[0m \u001b[43m    \u001b[49m\u001b[43mresponse_conn\u001b[49m\u001b[38;5;241;43m=\u001b[39;49m\u001b[43mresponse_conn\u001b[49m\u001b[43m,\u001b[49m\n\u001b[1;32m    797\u001b[0m \u001b[43m    \u001b[49m\u001b[43mpreload_content\u001b[49m\u001b[38;5;241;43m=\u001b[39;49m\u001b[43mpreload_content\u001b[49m\u001b[43m,\u001b[49m\n\u001b[1;32m    798\u001b[0m \u001b[43m    \u001b[49m\u001b[43mdecode_content\u001b[49m\u001b[38;5;241;43m=\u001b[39;49m\u001b[43mdecode_content\u001b[49m\u001b[43m,\u001b[49m\n\u001b[1;32m    799\u001b[0m \u001b[43m    \u001b[49m\u001b[38;5;241;43m*\u001b[39;49m\u001b[38;5;241;43m*\u001b[39;49m\u001b[43mresponse_kw\u001b[49m\u001b[43m,\u001b[49m\n\u001b[1;32m    800\u001b[0m \u001b[43m\u001b[49m\u001b[43m)\u001b[49m\n\u001b[1;32m    802\u001b[0m \u001b[38;5;66;03m# Everything went great!\u001b[39;00m\n\u001b[1;32m    803\u001b[0m clean_exit \u001b[38;5;241m=\u001b[39m \u001b[38;5;28;01mTrue\u001b[39;00m\n",
      "File \u001b[0;32m~/openai_env/lib/python3.9/site-packages/urllib3/connectionpool.py:493\u001b[0m, in \u001b[0;36mHTTPConnectionPool._make_request\u001b[0;34m(self, conn, method, url, body, headers, retries, timeout, chunked, response_conn, preload_content, decode_content, enforce_content_length)\u001b[0m\n\u001b[1;32m    490\u001b[0m \u001b[38;5;66;03m# conn.request() calls http.client.*.request, not the method in\u001b[39;00m\n\u001b[1;32m    491\u001b[0m \u001b[38;5;66;03m# urllib3.request. It also calls makefile (recv) on the socket.\u001b[39;00m\n\u001b[1;32m    492\u001b[0m \u001b[38;5;28;01mtry\u001b[39;00m:\n\u001b[0;32m--> 493\u001b[0m     \u001b[43mconn\u001b[49m\u001b[38;5;241;43m.\u001b[39;49m\u001b[43mrequest\u001b[49m\u001b[43m(\u001b[49m\n\u001b[1;32m    494\u001b[0m \u001b[43m        \u001b[49m\u001b[43mmethod\u001b[49m\u001b[43m,\u001b[49m\n\u001b[1;32m    495\u001b[0m \u001b[43m        \u001b[49m\u001b[43murl\u001b[49m\u001b[43m,\u001b[49m\n\u001b[1;32m    496\u001b[0m \u001b[43m        \u001b[49m\u001b[43mbody\u001b[49m\u001b[38;5;241;43m=\u001b[39;49m\u001b[43mbody\u001b[49m\u001b[43m,\u001b[49m\n\u001b[1;32m    497\u001b[0m \u001b[43m        \u001b[49m\u001b[43mheaders\u001b[49m\u001b[38;5;241;43m=\u001b[39;49m\u001b[43mheaders\u001b[49m\u001b[43m,\u001b[49m\n\u001b[1;32m    498\u001b[0m \u001b[43m        \u001b[49m\u001b[43mchunked\u001b[49m\u001b[38;5;241;43m=\u001b[39;49m\u001b[43mchunked\u001b[49m\u001b[43m,\u001b[49m\n\u001b[1;32m    499\u001b[0m \u001b[43m        \u001b[49m\u001b[43mpreload_content\u001b[49m\u001b[38;5;241;43m=\u001b[39;49m\u001b[43mpreload_content\u001b[49m\u001b[43m,\u001b[49m\n\u001b[1;32m    500\u001b[0m \u001b[43m        \u001b[49m\u001b[43mdecode_content\u001b[49m\u001b[38;5;241;43m=\u001b[39;49m\u001b[43mdecode_content\u001b[49m\u001b[43m,\u001b[49m\n\u001b[1;32m    501\u001b[0m \u001b[43m        \u001b[49m\u001b[43menforce_content_length\u001b[49m\u001b[38;5;241;43m=\u001b[39;49m\u001b[43menforce_content_length\u001b[49m\u001b[43m,\u001b[49m\n\u001b[1;32m    502\u001b[0m \u001b[43m    \u001b[49m\u001b[43m)\u001b[49m\n\u001b[1;32m    504\u001b[0m \u001b[38;5;66;03m# We are swallowing BrokenPipeError (errno.EPIPE) since the server is\u001b[39;00m\n\u001b[1;32m    505\u001b[0m \u001b[38;5;66;03m# legitimately able to close the connection after sending a valid response.\u001b[39;00m\n\u001b[1;32m    506\u001b[0m \u001b[38;5;66;03m# With this behaviour, the received response is still readable.\u001b[39;00m\n\u001b[1;32m    507\u001b[0m \u001b[38;5;28;01mexcept\u001b[39;00m \u001b[38;5;167;01mBrokenPipeError\u001b[39;00m:\n",
      "File \u001b[0;32m~/openai_env/lib/python3.9/site-packages/urllib3/connection.py:444\u001b[0m, in \u001b[0;36mHTTPConnection.request\u001b[0;34m(self, method, url, body, headers, chunked, preload_content, decode_content, enforce_content_length)\u001b[0m\n\u001b[1;32m    442\u001b[0m     \u001b[38;5;28mself\u001b[39m\u001b[38;5;241m.\u001b[39mputheader(\u001b[38;5;124m\"\u001b[39m\u001b[38;5;124mUser-Agent\u001b[39m\u001b[38;5;124m\"\u001b[39m, _get_default_user_agent())\n\u001b[1;32m    443\u001b[0m \u001b[38;5;28;01mfor\u001b[39;00m header, value \u001b[38;5;129;01min\u001b[39;00m headers\u001b[38;5;241m.\u001b[39mitems():\n\u001b[0;32m--> 444\u001b[0m     \u001b[38;5;28;43mself\u001b[39;49m\u001b[38;5;241;43m.\u001b[39;49m\u001b[43mputheader\u001b[49m\u001b[43m(\u001b[49m\u001b[43mheader\u001b[49m\u001b[43m,\u001b[49m\u001b[43m \u001b[49m\u001b[43mvalue\u001b[49m\u001b[43m)\u001b[49m\n\u001b[1;32m    445\u001b[0m \u001b[38;5;28mself\u001b[39m\u001b[38;5;241m.\u001b[39mendheaders()\n\u001b[1;32m    447\u001b[0m \u001b[38;5;66;03m# If we're given a body we start sending that in chunks.\u001b[39;00m\n",
      "File \u001b[0;32m~/openai_env/lib/python3.9/site-packages/urllib3/connection.py:358\u001b[0m, in \u001b[0;36mHTTPConnection.putheader\u001b[0;34m(self, header, *values)\u001b[0m\n\u001b[1;32m    356\u001b[0m \u001b[38;5;250m\u001b[39m\u001b[38;5;124;03m\"\"\"\"\"\"\u001b[39;00m\n\u001b[1;32m    357\u001b[0m \u001b[38;5;28;01mif\u001b[39;00m \u001b[38;5;129;01mnot\u001b[39;00m \u001b[38;5;28many\u001b[39m(\u001b[38;5;28misinstance\u001b[39m(v, \u001b[38;5;28mstr\u001b[39m) \u001b[38;5;129;01mand\u001b[39;00m v \u001b[38;5;241m==\u001b[39m SKIP_HEADER \u001b[38;5;28;01mfor\u001b[39;00m v \u001b[38;5;129;01min\u001b[39;00m values):\n\u001b[0;32m--> 358\u001b[0m     \u001b[38;5;28;43msuper\u001b[39;49m\u001b[43m(\u001b[49m\u001b[43m)\u001b[49m\u001b[38;5;241;43m.\u001b[39;49m\u001b[43mputheader\u001b[49m\u001b[43m(\u001b[49m\u001b[43mheader\u001b[49m\u001b[43m,\u001b[49m\u001b[43m \u001b[49m\u001b[38;5;241;43m*\u001b[39;49m\u001b[43mvalues\u001b[49m\u001b[43m)\u001b[49m\n\u001b[1;32m    359\u001b[0m \u001b[38;5;28;01melif\u001b[39;00m to_str(header\u001b[38;5;241m.\u001b[39mlower()) \u001b[38;5;129;01mnot\u001b[39;00m \u001b[38;5;129;01min\u001b[39;00m SKIPPABLE_HEADERS:\n\u001b[1;32m    360\u001b[0m     skippable_headers \u001b[38;5;241m=\u001b[39m \u001b[38;5;124m\"\u001b[39m\u001b[38;5;124m'\u001b[39m\u001b[38;5;124m, \u001b[39m\u001b[38;5;124m'\u001b[39m\u001b[38;5;124m\"\u001b[39m\u001b[38;5;241m.\u001b[39mjoin(\n\u001b[1;32m    361\u001b[0m         [\u001b[38;5;28mstr\u001b[39m\u001b[38;5;241m.\u001b[39mtitle(header) \u001b[38;5;28;01mfor\u001b[39;00m header \u001b[38;5;129;01min\u001b[39;00m \u001b[38;5;28msorted\u001b[39m(SKIPPABLE_HEADERS)]\n\u001b[1;32m    362\u001b[0m     )\n",
      "File \u001b[0;32m/usr/lib/python3.9/http/client.py:1258\u001b[0m, in \u001b[0;36mHTTPConnection.putheader\u001b[0;34m(self, header, *values)\u001b[0m\n\u001b[1;32m   1256\u001b[0m \u001b[38;5;28;01mfor\u001b[39;00m i, one_value \u001b[38;5;129;01min\u001b[39;00m \u001b[38;5;28menumerate\u001b[39m(values):\n\u001b[1;32m   1257\u001b[0m     \u001b[38;5;28;01mif\u001b[39;00m \u001b[38;5;28mhasattr\u001b[39m(one_value, \u001b[38;5;124m'\u001b[39m\u001b[38;5;124mencode\u001b[39m\u001b[38;5;124m'\u001b[39m):\n\u001b[0;32m-> 1258\u001b[0m         values[i] \u001b[38;5;241m=\u001b[39m \u001b[43mone_value\u001b[49m\u001b[38;5;241;43m.\u001b[39;49m\u001b[43mencode\u001b[49m\u001b[43m(\u001b[49m\u001b[38;5;124;43m'\u001b[39;49m\u001b[38;5;124;43mlatin-1\u001b[39;49m\u001b[38;5;124;43m'\u001b[39;49m\u001b[43m)\u001b[49m\n\u001b[1;32m   1259\u001b[0m     \u001b[38;5;28;01melif\u001b[39;00m \u001b[38;5;28misinstance\u001b[39m(one_value, \u001b[38;5;28mint\u001b[39m):\n\u001b[1;32m   1260\u001b[0m         values[i] \u001b[38;5;241m=\u001b[39m \u001b[38;5;28mstr\u001b[39m(one_value)\u001b[38;5;241m.\u001b[39mencode(\u001b[38;5;124m'\u001b[39m\u001b[38;5;124mascii\u001b[39m\u001b[38;5;124m'\u001b[39m)\n",
      "\u001b[0;31mUnicodeEncodeError\u001b[0m: 'latin-1' codec can't encode characters in position 0-1: ordinal not in range(256)"
     ]
    }
   ],
   "source": [
    "place_order(api_key=\"你的KEY\", cst=\"你的CST\", x_security_token=\"你的TOKEN\")\n"
   ]
  },
  {
   "cell_type": "code",
   "execution_count": 5,
   "id": "51f54d7a-2da1-4a7f-86c3-1a85672da930",
   "metadata": {},
   "outputs": [],
   "source": [
    "import requests\n",
    "import json\n",
    "\n",
    "def place_order(api_key, cst, x_security_token, account_id):\n",
    "    url = \"https://demo-api.ig.com/gateway/deal/positions/otc\"\n",
    "\n",
    "    headers = {\n",
    "        \"X-IG-API-KEY\": api_key,\n",
    "        \"CST\": cst,\n",
    "        \"X-SECURITY-TOKEN\": x_security_token,\n",
    "        \"Content-Type\": \"application/json\",\n",
    "        \"Version\": \"2\"\n",
    "    }\n",
    "\n",
    "    payload = {\n",
    "        \"epic\": \"CS.D.CFDGOLD.CFDGC.IP\",       # 黃金 CFD 代碼\n",
    "        \"expiry\": \"-\",                         # 現貨無到期\n",
    "        \"direction\": \"BUY\",                    # 做多\n",
    "        \"size\": 0.5,                           # 倉位大小\n",
    "        \"orderType\": \"MARKET\",                 # 市價單\n",
    "        \"quoteId\": None,                       # 必填 null，否則報錯\n",
    "        \"level\": None,\n",
    "        \"limitLevel\": None,\n",
    "        \"stopLevel\": None,\n",
    "        \"stopDistance\": None,\n",
    "        \"guaranteedStop\": False,\n",
    "        \"forceOpen\": True,\n",
    "        \"currencyCode\": \"USD\",\n",
    "        \"accountId\": account_id                # 指定 CFD 帳戶 ID\n",
    "    }\n",
    "\n",
    "    print(\"正在發送下單請求中...\")\n",
    "    response = requests.post(url, headers=headers, data=json.dumps(payload))\n",
    "\n",
    "    try:\n",
    "        data = response.json()\n",
    "        print(\"伺服器回應：\")\n",
    "        print(json.dumps(data, indent=2))\n",
    "    except Exception as e:\n",
    "        print(\"回應無法解析：\", response.text)\n",
    "\n",
    "    if response.status_code == 200:\n",
    "        print(\"已成功送出訂單。\")\n",
    "    else:\n",
    "        print(\"訂單送出失敗，HTTP 狀態碼：\", response.status_code)\n",
    "\n",
    "# 範例使用（請自行帶入值）\n",
    "# place_order(api_key=\"你的API_KEY\", cst=\"你的CST\", x_security_token=\"你的TOKEN\", account_id=\"Z4BV5B\")\n"
   ]
  },
  {
   "cell_type": "code",
   "execution_count": 6,
   "id": "6797c89e-8c0c-40dd-bf81-d671b0e28d24",
   "metadata": {},
   "outputs": [],
   "source": [
    "import requests\n",
    "\n",
    "def ig_login(api_key, username, password):\n",
    "    url = \"https://demo-api.ig.com/gateway/deal/session\"\n",
    "    headers = {\n",
    "        \"Content-Type\": \"application/json; charset=UTF-8\",\n",
    "        \"Accept\": \"application/json; charset=UTF-8\",\n",
    "        \"X-IG-API-KEY\": api_key,\n",
    "        \"Version\": \"2\"\n",
    "    }\n",
    "    payload = {\n",
    "        \"identifier\": username,\n",
    "        \"password\": password\n",
    "    }\n",
    "\n",
    "    response = requests.post(url, headers=headers, json=payload)\n",
    "\n",
    "    if response.status_code == 200:\n",
    "        cst = response.headers.get(\"CST\")\n",
    "        xst = response.headers.get(\"X-SECURITY-TOKEN\")\n",
    "        print(\"✅ 登入成功！\")\n",
    "        print(\"CST:\", cst)\n",
    "        print(\"X-SECURITY-TOKEN:\", xst)\n",
    "        return cst, xst\n",
    "    else:\n",
    "        print(\"❌ 登入失敗，請確認帳密與 API KEY\")\n",
    "        print(\"回傳狀態碼：\", response.status_code)\n",
    "        print(\"錯誤訊息：\", response.text)\n",
    "        return None, None\n"
   ]
  },
  {
   "cell_type": "code",
   "execution_count": 7,
   "id": "93bc81e5-9e87-4f01-9423-0a6fc3052551",
   "metadata": {},
   "outputs": [
    {
     "name": "stdout",
     "output_type": "stream",
     "text": [
      "✅ 登入成功！\n",
      "CST: 14af2c4544b8b4f5080c8b2126386b645bea4d535dc7a8c18402b12e9020c7CC01113\n",
      "X-SECURITY-TOKEN: bbcade72e91abd98c2d3a074508c75d15431fbf34f28dc9a38d8512e28d2f1CD01111\n"
     ]
    }
   ],
   "source": [
    "api_key = \"2181c539a32c9f60e1119673c96598eaf2be45e3\"  # ✅ 你的模擬 API KEY\n",
    "username = \"Lucifinel1016\"                           # ✅ 你的 IG 模擬帳號\n",
    "password = \"S06109811s\"                              # ✅ 你的 IG 模擬密碼\n",
    "\n",
    "cst, xst = ig_login(api_key, username, password)\n"
   ]
  },
  {
   "cell_type": "code",
   "execution_count": 8,
   "id": "62f81313-bb93-44a2-896f-3afc3630b247",
   "metadata": {},
   "outputs": [
    {
     "name": "stdout",
     "output_type": "stream",
     "text": [
      "正在發送下單請求中...\n",
      "伺服器回應：\n",
      "{\n",
      "  \"dealReference\": \"FET3NBBRJLUTYP5\"\n",
      "}\n",
      "已成功送出訂單。\n"
     ]
    }
   ],
   "source": [
    "place_order(\n",
    "    api_key=\"2181c539a32c9f60e1119673c96598eaf2be45e3\",\n",
    "    cst=\"14af2c4544b8b4f5080c8b2126386b645bea4d535dc7a8c18402b12e9020c7CC01113\",\n",
    "    x_security_token=\"bbcade72e91abd98c2d3a074508c75d15431fbf34f28dc9a38d8512e28d2f1CD01111\",\n",
    "    account_id=\"Z4BV5B\"\n",
    ")\n"
   ]
  },
  {
   "cell_type": "code",
   "execution_count": 9,
   "id": "10728a47-12d0-4371-8fed-8896e28352ff",
   "metadata": {},
   "outputs": [
    {
     "ename": "NameError",
     "evalue": "name 'check_order_status' is not defined",
     "output_type": "error",
     "traceback": [
      "\u001b[0;31m---------------------------------------------------------------------------\u001b[0m",
      "\u001b[0;31mNameError\u001b[0m                                 Traceback (most recent call last)",
      "Cell \u001b[0;32mIn[9], line 1\u001b[0m\n\u001b[0;32m----> 1\u001b[0m \u001b[43mcheck_order_status\u001b[49m(\n\u001b[1;32m      2\u001b[0m     api_key\u001b[38;5;241m=\u001b[39m\u001b[38;5;124m\"\u001b[39m\u001b[38;5;124m2181c539a32c9f60e1119673c96598eaf2be45e3\u001b[39m\u001b[38;5;124m\"\u001b[39m,\n\u001b[1;32m      3\u001b[0m     cst\u001b[38;5;241m=\u001b[39m\u001b[38;5;124m\"\u001b[39m\u001b[38;5;124m14af2c4544b8b4f5080c8cb2126386b645bea4d535dc7a8c18402b12e9020c7CC01113\u001b[39m\u001b[38;5;124m\"\u001b[39m,\n\u001b[1;32m      4\u001b[0m     x_security_token\u001b[38;5;241m=\u001b[39m\u001b[38;5;124m\"\u001b[39m\u001b[38;5;124mbbcdae72e91abd98c2d3a074508c75d15431fbf34f28dc9a38d8512e82d2f1CD01111\u001b[39m\u001b[38;5;124m\"\u001b[39m,\n\u001b[1;32m      5\u001b[0m     deal_reference\u001b[38;5;241m=\u001b[39m\u001b[38;5;124m\"\u001b[39m\u001b[38;5;124mFET3JNBBRJLU7YP5\u001b[39m\u001b[38;5;124m\"\u001b[39m\n\u001b[1;32m      6\u001b[0m )\n",
      "\u001b[0;31mNameError\u001b[0m: name 'check_order_status' is not defined"
     ]
    }
   ],
   "source": [
    "check_order_status(\n",
    "    api_key=\"2181c539a32c9f60e1119673c96598eaf2be45e3\",\n",
    "    cst=\"14af2c4544b8b4f5080c8cb2126386b645bea4d535dc7a8c18402b12e9020c7CC01113\",\n",
    "    x_security_token=\"bbcdae72e91abd98c2d3a074508c75d15431fbf34f28dc9a38d8512e82d2f1CD01111\",\n",
    "    deal_reference=\"FET3JNBBRJLU7YP5\"\n",
    ")\n"
   ]
  },
  {
   "cell_type": "code",
   "execution_count": 10,
   "id": "01c04d38-8e97-46e6-9116-72894664e8a6",
   "metadata": {},
   "outputs": [],
   "source": [
    "import requests\n",
    "import json\n",
    "\n",
    "def check_order_status(api_key, cst, x_security_token, deal_reference):\n",
    "    url = \"https://demo-api.ig.com/gateway/deal/confirms/\" + deal_reference\n",
    "    headers = {\n",
    "        \"X-IG-API-KEY\": api_key,\n",
    "        \"CST\": cst,\n",
    "        \"X-SECURITY-TOKEN\": x_security_token,\n",
    "        \"Version\": \"1\",\n",
    "        \"Accept\": \"application/json\"\n",
    "    }\n",
    "\n",
    "    print(\"🔍 查詢訂單狀態中...\")\n",
    "    response = requests.get(url, headers=headers)\n",
    "\n",
    "    try:\n",
    "        data = response.json()\n",
    "        print(json.dumps(data, indent=2))\n",
    "    except Exception as e:\n",
    "        print(\"❌ 無法解析結果：\", response.text)\n",
    "\n",
    "    if response.status_code == 200:\n",
    "        print(\"✅ 已成功取得訂單狀態\")\n",
    "    else:\n",
    "        print(\"⚠️ 查詢失敗，HTTP 狀態碼：\", response.status_code)\n"
   ]
  },
  {
   "cell_type": "code",
   "execution_count": 11,
   "id": "ba744c9a-2062-4d36-afa6-b29733ebf264",
   "metadata": {},
   "outputs": [
    {
     "name": "stdout",
     "output_type": "stream",
     "text": [
      "🔍 查詢訂單狀態中...\n",
      "{\n",
      "  \"errorCode\": \"error.security.client-token-invalid\"\n",
      "}\n",
      "⚠️ 查詢失敗，HTTP 狀態碼： 401\n"
     ]
    }
   ],
   "source": [
    "check_order_status(\n",
    "    api_key=\"2181c539a32c9f60e1119673c96598eaf2be45e3\",\n",
    "    cst=\"14af2c4544b8b4f5080c8cb2126386b645bea4d535dc7a8c18402b12e9020c7CC01113\",\n",
    "    x_security_token=\"bbcdae72e91abd98c2d3a074508c75d15431fbf34f28dc9a38d8512e82d2f1CD01111\",\n",
    "    deal_reference=\"FET3JNBBRJLU7YP5\"\n",
    ")\n",
    "\n"
   ]
  },
  {
   "cell_type": "code",
   "execution_count": 12,
   "id": "eae023b2-14fc-4345-be60-218078b45f8f",
   "metadata": {},
   "outputs": [
    {
     "name": "stdout",
     "output_type": "stream",
     "text": [
      "✅ 登入成功！\n",
      "CST: 95aa56b0912278165da5a8891357da63bbd440de0ef2e92178c9add31bc8b3CC01114\n",
      "X-SECURITY-TOKEN: 29ecbf65e17c1205bfa9e57d334c8a7aac26281d36785bb04c78f4e117678eCD01113\n",
      "📤 正在發送下單請求中...\n",
      "❌ 下單失敗： 400 {\"errorCode\":\"validation.null-not-allowed.request.expiry\"}\n"
     ]
    }
   ],
   "source": [
    "import requests\n",
    "import json\n",
    "\n",
    "# 登入取得 CST 和 X-SECURITY-TOKEN\n",
    "def login():\n",
    "    url = \"https://demo-api.ig.com/gateway/deal/session\"\n",
    "    headers = {\n",
    "        \"X-IG-API-KEY\": \"2181c539a32c9f60e1119673c96598eaf2be45e3\",\n",
    "        \"Content-Type\": \"application/json\",\n",
    "        \"Accept\": \"application/json\"\n",
    "    }\n",
    "    payload = {\n",
    "        \"identifier\": \"Lucifinel1016\",\n",
    "        \"password\": \"S06109811s\"\n",
    "    }\n",
    "    response = requests.post(url, headers=headers, json=payload)\n",
    "\n",
    "    if response.status_code == 200:\n",
    "        cst = response.headers.get(\"CST\")\n",
    "        x_token = response.headers.get(\"X-SECURITY-TOKEN\")\n",
    "        print(\"✅ 登入成功！\")\n",
    "        print(\"CST:\", cst)\n",
    "        print(\"X-SECURITY-TOKEN:\", x_token)\n",
    "        return cst, x_token\n",
    "    else:\n",
    "        print(\"❌ 登入失敗：\", response.status_code, response.text)\n",
    "        return None, None\n",
    "\n",
    "# 發送下單指令\n",
    "def place_order(api_key, cst, x_security_token, account_id=\"Z4BV5B\"):\n",
    "    url = \"https://demo-api.ig.com/gateway/deal/positions/otc\"\n",
    "    headers = {\n",
    "        \"X-IG-API-KEY\": api_key,\n",
    "        \"CST\": cst,\n",
    "        \"X-SECURITY-TOKEN\": x_security_token,\n",
    "        \"Content-Type\": \"application/json\",\n",
    "        \"Version\": \"2\"\n",
    "    }\n",
    "\n",
    "    payload = {\n",
    "        \"epic\": \"CS.D.CFDGOLD.CFDGC.IP\",\n",
    "        \"direction\": \"BUY\",\n",
    "        \"size\": 0.5,\n",
    "        \"orderType\": \"MARKET\",\n",
    "        \"quoteId\": None,\n",
    "        \"guaranteedStop\": False,\n",
    "        \"forceOpen\": True,\n",
    "        \"currencyCode\": \"USD\",\n",
    "        \"accountId\": account_id\n",
    "    }\n",
    "\n",
    "    print(\"📤 正在發送下單請求中...\")\n",
    "    response = requests.post(url, headers=headers, data=json.dumps(payload))\n",
    "    if response.status_code == 200:\n",
    "        data = response.json()\n",
    "        deal_reference = data.get(\"dealReference\")\n",
    "        print(\"✅ 下單成功，參考代碼：\", deal_reference)\n",
    "        return deal_reference\n",
    "    else:\n",
    "        print(\"❌ 下單失敗：\", response.status_code, response.text)\n",
    "        return None\n",
    "\n",
    "# 查詢訂單狀態\n",
    "def check_order_status(api_key, cst, x_security_token, deal_reference):\n",
    "    url = f\"https://demo-api.ig.com/gateway/deal/confirms/{deal_reference}\"\n",
    "    headers = {\n",
    "        \"X-IG-API-KEY\": api_key,\n",
    "        \"CST\": cst,\n",
    "        \"X-SECURITY-TOKEN\": x_security_token,\n",
    "        \"Version\": \"1\",\n",
    "        \"Accept\": \"application/json\"\n",
    "    }\n",
    "\n",
    "    print(\"🔎 查詢訂單狀態中...\")\n",
    "    response = requests.get(url, headers=headers)\n",
    "    if response.status_code == 200:\n",
    "        data = response.json()\n",
    "        print(\"📦 訂單狀態：\")\n",
    "        print(json.dumps(data, indent=2))\n",
    "    else:\n",
    "        print(\"❌ 查詢失敗：\", response.status_code, response.text)\n",
    "\n",
    "\n",
    "# 🧠 主流程執行\n",
    "api_key = \"2181c539a32c9f60e1119673c96598eaf2be45e3\"\n",
    "account_id = \"Z4BV5B\"\n",
    "\n",
    "cst, x_token = login()\n",
    "if cst and x_token:\n",
    "    deal_ref = place_order(api_key, cst, x_token, account_id)\n",
    "    if deal_ref:\n",
    "        check_order_status(api_key, cst, x_token, deal_ref)\n"
   ]
  },
  {
   "cell_type": "code",
   "execution_count": 13,
   "id": "53a7511e-5e91-43a5-bf5e-da97426dc61b",
   "metadata": {},
   "outputs": [
    {
     "name": "stdout",
     "output_type": "stream",
     "text": [
      "✅ 登入成功\n",
      "CST: fd7c83bcc9d762e6e06820c8637ebbf315db793ed229fb6747c2f83765e579CC01111\n",
      "X-SECURITY-TOKEN: 9bd7a12dae816794f578b8877b482bcd53b9c5eb63cd6d8ca5c9b79ef45682CD01114\n",
      "📤 正在發送下單請求中...\n",
      "✅ 下單成功！參考代碼： WY46AYYBZUCTYP5\n",
      "🔍 查詢訂單狀態中...\n",
      "✅ 訂單狀態：\n",
      "{\n",
      "  \"date\": \"2025-04-04T09:11:00.353\",\n",
      "  \"status\": \"OPEN\",\n",
      "  \"reason\": \"SUCCESS\",\n",
      "  \"dealStatus\": \"ACCEPTED\",\n",
      "  \"epic\": \"CS.D.CFDGOLD.CFDGC.IP\",\n",
      "  \"expiry\": \"-\",\n",
      "  \"dealReference\": \"WY46AYYBZUCTYP5\",\n",
      "  \"dealId\": \"DIAAAATBHLTZWA2\",\n",
      "  \"affectedDeals\": [\n",
      "    {\n",
      "      \"dealId\": \"DIAAAATBHLTZWA2\",\n",
      "      \"status\": \"OPENED\"\n",
      "    }\n",
      "  ],\n",
      "  \"level\": 3090.03,\n",
      "  \"size\": 0.5,\n",
      "  \"direction\": \"BUY\",\n",
      "  \"stopLevel\": null,\n",
      "  \"limitLevel\": null,\n",
      "  \"stopDistance\": null,\n",
      "  \"limitDistance\": null,\n",
      "  \"guaranteedStop\": false,\n",
      "  \"trailingStop\": false,\n",
      "  \"profit\": null,\n",
      "  \"profitCurrency\": null\n",
      "}\n"
     ]
    }
   ],
   "source": [
    "import requests\n",
    "import json\n",
    "\n",
    "# 🚪 登入並取得 CST + X-SECURITY-TOKEN\n",
    "def login():\n",
    "    url = \"https://demo-api.ig.com/gateway/deal/session\"\n",
    "    headers = {\n",
    "        \"X-IG-API-KEY\": \"2181c539a32c9f60e1119673c96598eaf2be45e3\",\n",
    "        \"Content-Type\": \"application/json\",\n",
    "        \"Accept\": \"application/json\"\n",
    "    }\n",
    "    payload = {\n",
    "        \"identifier\": \"Lucifinel1016\",\n",
    "        \"password\": \"S06109811s\"\n",
    "    }\n",
    "    response = requests.post(url, headers=headers, json=payload)\n",
    "    \n",
    "    if response.status_code == 200:\n",
    "        cst = response.headers.get(\"CST\")\n",
    "        x_token = response.headers.get(\"X-SECURITY-TOKEN\")\n",
    "        print(\"✅ 登入成功\")\n",
    "        print(\"CST:\", cst)\n",
    "        print(\"X-SECURITY-TOKEN:\", x_token)\n",
    "        return cst, x_token\n",
    "    else:\n",
    "        print(\"❌ 登入失敗\", response.status_code, response.text)\n",
    "        return None, None\n",
    "\n",
    "# 📤 發送下單指令（已加 expiry）\n",
    "def place_order(api_key, cst, x_security_token, account_id=\"Z4BV5B\"):\n",
    "    url = \"https://demo-api.ig.com/gateway/deal/positions/otc\"\n",
    "    headers = {\n",
    "        \"X-IG-API-KEY\": api_key,\n",
    "        \"CST\": cst,\n",
    "        \"X-SECURITY-TOKEN\": x_security_token,\n",
    "        \"Content-Type\": \"application/json\",\n",
    "        \"Version\": \"2\"\n",
    "    }\n",
    "    payload = {\n",
    "        \"epic\": \"CS.D.CFDGOLD.CFDGC.IP\",\n",
    "        \"expiry\": \"-\",  # ✅ 關鍵修正！CFD 帳戶必須為 \"-\"\n",
    "        \"direction\": \"BUY\",\n",
    "        \"size\": 0.5,\n",
    "        \"orderType\": \"MARKET\",\n",
    "        \"quoteId\": None,\n",
    "        \"guaranteedStop\": False,\n",
    "        \"forceOpen\": True,\n",
    "        \"currencyCode\": \"USD\",\n",
    "        \"accountId\": account_id\n",
    "    }\n",
    "\n",
    "    print(\"📤 正在發送下單請求中...\")\n",
    "    response = requests.post(url, headers=headers, data=json.dumps(payload))\n",
    "    \n",
    "    if response.status_code == 200:\n",
    "        data = response.json()\n",
    "        deal_reference = data.get(\"dealReference\")\n",
    "        print(\"✅ 下單成功！參考代碼：\", deal_reference)\n",
    "        return deal_reference\n",
    "    else:\n",
    "        print(\"❌ 下單失敗\", response.status_code, response.text)\n",
    "        return None\n",
    "\n",
    "# 🔍 查詢訂單狀態\n",
    "def check_order_status(api_key, cst, x_security_token, deal_reference):\n",
    "    url = f\"https://demo-api.ig.com/gateway/deal/confirms/{deal_reference}\"\n",
    "    headers = {\n",
    "        \"X-IG-API-KEY\": api_key,\n",
    "        \"CST\": cst,\n",
    "        \"X-SECURITY-TOKEN\": x_security_token,\n",
    "        \"Version\": \"1\",\n",
    "        \"Accept\": \"application/json\"\n",
    "    }\n",
    "\n",
    "    print(\"🔍 查詢訂單狀態中...\")\n",
    "    response = requests.get(url, headers=headers)\n",
    "    \n",
    "    if response.status_code == 200:\n",
    "        data = response.json()\n",
    "        print(\"✅ 訂單狀態：\")\n",
    "        print(json.dumps(data, indent=2))\n",
    "    else:\n",
    "        print(\"❌ 查詢失敗：\", response.status_code, response.text)\n",
    "\n",
    "# ▶️ 主程式執行區\n",
    "api_key = \"2181c539a32c9f60e1119673c96598eaf2be45e3\"\n",
    "account_id = \"Z4BV5B\"\n",
    "\n",
    "cst, x_token = login()\n",
    "if cst and x_token:\n",
    "    deal_ref = place_order(api_key, cst, x_token, account_id)\n",
    "    if deal_ref:\n",
    "        check_order_status(api_key, cst, x_token, deal_ref)\n"
   ]
  },
  {
   "cell_type": "code",
   "execution_count": 14,
   "id": "1188f1f1-cced-4fc8-a834-02bdc1b135f2",
   "metadata": {},
   "outputs": [
    {
     "ename": "UnicodeEncodeError",
     "evalue": "'latin-1' codec can't encode characters in position 0-5: ordinal not in range(256)",
     "output_type": "error",
     "traceback": [
      "\u001b[0;31m---------------------------------------------------------------------------\u001b[0m",
      "\u001b[0;31mUnicodeEncodeError\u001b[0m                        Traceback (most recent call last)",
      "Cell \u001b[0;32mIn[14], line 92\u001b[0m\n\u001b[1;32m     89\u001b[0m api_key \u001b[38;5;241m=\u001b[39m \u001b[38;5;124m\"\u001b[39m\u001b[38;5;124m👉你的 API Key\u001b[39m\u001b[38;5;124m\"\u001b[39m\n\u001b[1;32m     90\u001b[0m account_id \u001b[38;5;241m=\u001b[39m \u001b[38;5;124m\"\u001b[39m\u001b[38;5;124m👉你的正式帳戶 ID\u001b[39m\u001b[38;5;124m\"\u001b[39m\n\u001b[0;32m---> 92\u001b[0m cst, x_token \u001b[38;5;241m=\u001b[39m \u001b[43mlogin\u001b[49m\u001b[43m(\u001b[49m\u001b[43m)\u001b[49m\n\u001b[1;32m     93\u001b[0m \u001b[38;5;28;01mif\u001b[39;00m cst \u001b[38;5;129;01mand\u001b[39;00m x_token:\n\u001b[1;32m     94\u001b[0m     deal_ref \u001b[38;5;241m=\u001b[39m place_order(api_key, cst, x_token, account_id)\n",
      "Cell \u001b[0;32mIn[14], line 17\u001b[0m, in \u001b[0;36mlogin\u001b[0;34m()\u001b[0m\n\u001b[1;32m      7\u001b[0m headers \u001b[38;5;241m=\u001b[39m {\n\u001b[1;32m      8\u001b[0m     \u001b[38;5;124m\"\u001b[39m\u001b[38;5;124mX-IG-API-KEY\u001b[39m\u001b[38;5;124m\"\u001b[39m: \u001b[38;5;124m\"\u001b[39m\u001b[38;5;124m👉填你的正式 API Key\u001b[39m\u001b[38;5;124m\"\u001b[39m,\n\u001b[1;32m      9\u001b[0m     \u001b[38;5;124m\"\u001b[39m\u001b[38;5;124mContent-Type\u001b[39m\u001b[38;5;124m\"\u001b[39m: \u001b[38;5;124m\"\u001b[39m\u001b[38;5;124mapplication/json\u001b[39m\u001b[38;5;124m\"\u001b[39m,\n\u001b[1;32m     10\u001b[0m     \u001b[38;5;124m\"\u001b[39m\u001b[38;5;124mAccept\u001b[39m\u001b[38;5;124m\"\u001b[39m: \u001b[38;5;124m\"\u001b[39m\u001b[38;5;124mapplication/json\u001b[39m\u001b[38;5;124m\"\u001b[39m\n\u001b[1;32m     11\u001b[0m }\n\u001b[1;32m     12\u001b[0m payload \u001b[38;5;241m=\u001b[39m {\n\u001b[1;32m     13\u001b[0m     \u001b[38;5;124m\"\u001b[39m\u001b[38;5;124midentifier\u001b[39m\u001b[38;5;124m\"\u001b[39m: \u001b[38;5;124m\"\u001b[39m\u001b[38;5;124m👉你的帳號\u001b[39m\u001b[38;5;124m\"\u001b[39m,\n\u001b[1;32m     14\u001b[0m     \u001b[38;5;124m\"\u001b[39m\u001b[38;5;124mpassword\u001b[39m\u001b[38;5;124m\"\u001b[39m: \u001b[38;5;124m\"\u001b[39m\u001b[38;5;124m👉你的密碼\u001b[39m\u001b[38;5;124m\"\u001b[39m\n\u001b[1;32m     15\u001b[0m }\n\u001b[0;32m---> 17\u001b[0m response \u001b[38;5;241m=\u001b[39m \u001b[43mrequests\u001b[49m\u001b[38;5;241;43m.\u001b[39;49m\u001b[43mpost\u001b[49m\u001b[43m(\u001b[49m\u001b[43murl\u001b[49m\u001b[43m,\u001b[49m\u001b[43m \u001b[49m\u001b[43mheaders\u001b[49m\u001b[38;5;241;43m=\u001b[39;49m\u001b[43mheaders\u001b[49m\u001b[43m,\u001b[49m\u001b[43m \u001b[49m\u001b[43mjson\u001b[49m\u001b[38;5;241;43m=\u001b[39;49m\u001b[43mpayload\u001b[49m\u001b[43m)\u001b[49m\n\u001b[1;32m     19\u001b[0m \u001b[38;5;28;01mif\u001b[39;00m response\u001b[38;5;241m.\u001b[39mstatus_code \u001b[38;5;241m==\u001b[39m \u001b[38;5;241m200\u001b[39m:\n\u001b[1;32m     20\u001b[0m     cst \u001b[38;5;241m=\u001b[39m response\u001b[38;5;241m.\u001b[39mheaders\u001b[38;5;241m.\u001b[39mget(\u001b[38;5;124m\"\u001b[39m\u001b[38;5;124mCST\u001b[39m\u001b[38;5;124m\"\u001b[39m)\n",
      "File \u001b[0;32m~/openai_env/lib/python3.9/site-packages/requests/api.py:115\u001b[0m, in \u001b[0;36mpost\u001b[0;34m(url, data, json, **kwargs)\u001b[0m\n\u001b[1;32m    103\u001b[0m \u001b[38;5;28;01mdef\u001b[39;00m\u001b[38;5;250m \u001b[39m\u001b[38;5;21mpost\u001b[39m(url, data\u001b[38;5;241m=\u001b[39m\u001b[38;5;28;01mNone\u001b[39;00m, json\u001b[38;5;241m=\u001b[39m\u001b[38;5;28;01mNone\u001b[39;00m, \u001b[38;5;241m*\u001b[39m\u001b[38;5;241m*\u001b[39mkwargs):\n\u001b[1;32m    104\u001b[0m \u001b[38;5;250m    \u001b[39m\u001b[38;5;124mr\u001b[39m\u001b[38;5;124;03m\"\"\"Sends a POST request.\u001b[39;00m\n\u001b[1;32m    105\u001b[0m \n\u001b[1;32m    106\u001b[0m \u001b[38;5;124;03m    :param url: URL for the new :class:`Request` object.\u001b[39;00m\n\u001b[0;32m   (...)\u001b[0m\n\u001b[1;32m    112\u001b[0m \u001b[38;5;124;03m    :rtype: requests.Response\u001b[39;00m\n\u001b[1;32m    113\u001b[0m \u001b[38;5;124;03m    \"\"\"\u001b[39;00m\n\u001b[0;32m--> 115\u001b[0m     \u001b[38;5;28;01mreturn\u001b[39;00m \u001b[43mrequest\u001b[49m\u001b[43m(\u001b[49m\u001b[38;5;124;43m\"\u001b[39;49m\u001b[38;5;124;43mpost\u001b[39;49m\u001b[38;5;124;43m\"\u001b[39;49m\u001b[43m,\u001b[49m\u001b[43m \u001b[49m\u001b[43murl\u001b[49m\u001b[43m,\u001b[49m\u001b[43m \u001b[49m\u001b[43mdata\u001b[49m\u001b[38;5;241;43m=\u001b[39;49m\u001b[43mdata\u001b[49m\u001b[43m,\u001b[49m\u001b[43m \u001b[49m\u001b[43mjson\u001b[49m\u001b[38;5;241;43m=\u001b[39;49m\u001b[43mjson\u001b[49m\u001b[43m,\u001b[49m\u001b[43m \u001b[49m\u001b[38;5;241;43m*\u001b[39;49m\u001b[38;5;241;43m*\u001b[39;49m\u001b[43mkwargs\u001b[49m\u001b[43m)\u001b[49m\n",
      "File \u001b[0;32m~/openai_env/lib/python3.9/site-packages/requests/api.py:59\u001b[0m, in \u001b[0;36mrequest\u001b[0;34m(method, url, **kwargs)\u001b[0m\n\u001b[1;32m     55\u001b[0m \u001b[38;5;66;03m# By using the 'with' statement we are sure the session is closed, thus we\u001b[39;00m\n\u001b[1;32m     56\u001b[0m \u001b[38;5;66;03m# avoid leaving sockets open which can trigger a ResourceWarning in some\u001b[39;00m\n\u001b[1;32m     57\u001b[0m \u001b[38;5;66;03m# cases, and look like a memory leak in others.\u001b[39;00m\n\u001b[1;32m     58\u001b[0m \u001b[38;5;28;01mwith\u001b[39;00m sessions\u001b[38;5;241m.\u001b[39mSession() \u001b[38;5;28;01mas\u001b[39;00m session:\n\u001b[0;32m---> 59\u001b[0m     \u001b[38;5;28;01mreturn\u001b[39;00m \u001b[43msession\u001b[49m\u001b[38;5;241;43m.\u001b[39;49m\u001b[43mrequest\u001b[49m\u001b[43m(\u001b[49m\u001b[43mmethod\u001b[49m\u001b[38;5;241;43m=\u001b[39;49m\u001b[43mmethod\u001b[49m\u001b[43m,\u001b[49m\u001b[43m \u001b[49m\u001b[43murl\u001b[49m\u001b[38;5;241;43m=\u001b[39;49m\u001b[43murl\u001b[49m\u001b[43m,\u001b[49m\u001b[43m \u001b[49m\u001b[38;5;241;43m*\u001b[39;49m\u001b[38;5;241;43m*\u001b[39;49m\u001b[43mkwargs\u001b[49m\u001b[43m)\u001b[49m\n",
      "File \u001b[0;32m~/openai_env/lib/python3.9/site-packages/requests/sessions.py:589\u001b[0m, in \u001b[0;36mSession.request\u001b[0;34m(self, method, url, params, data, headers, cookies, files, auth, timeout, allow_redirects, proxies, hooks, stream, verify, cert, json)\u001b[0m\n\u001b[1;32m    584\u001b[0m send_kwargs \u001b[38;5;241m=\u001b[39m {\n\u001b[1;32m    585\u001b[0m     \u001b[38;5;124m\"\u001b[39m\u001b[38;5;124mtimeout\u001b[39m\u001b[38;5;124m\"\u001b[39m: timeout,\n\u001b[1;32m    586\u001b[0m     \u001b[38;5;124m\"\u001b[39m\u001b[38;5;124mallow_redirects\u001b[39m\u001b[38;5;124m\"\u001b[39m: allow_redirects,\n\u001b[1;32m    587\u001b[0m }\n\u001b[1;32m    588\u001b[0m send_kwargs\u001b[38;5;241m.\u001b[39mupdate(settings)\n\u001b[0;32m--> 589\u001b[0m resp \u001b[38;5;241m=\u001b[39m \u001b[38;5;28;43mself\u001b[39;49m\u001b[38;5;241;43m.\u001b[39;49m\u001b[43msend\u001b[49m\u001b[43m(\u001b[49m\u001b[43mprep\u001b[49m\u001b[43m,\u001b[49m\u001b[43m \u001b[49m\u001b[38;5;241;43m*\u001b[39;49m\u001b[38;5;241;43m*\u001b[39;49m\u001b[43msend_kwargs\u001b[49m\u001b[43m)\u001b[49m\n\u001b[1;32m    591\u001b[0m \u001b[38;5;28;01mreturn\u001b[39;00m resp\n",
      "File \u001b[0;32m~/openai_env/lib/python3.9/site-packages/requests/sessions.py:703\u001b[0m, in \u001b[0;36mSession.send\u001b[0;34m(self, request, **kwargs)\u001b[0m\n\u001b[1;32m    700\u001b[0m start \u001b[38;5;241m=\u001b[39m preferred_clock()\n\u001b[1;32m    702\u001b[0m \u001b[38;5;66;03m# Send the request\u001b[39;00m\n\u001b[0;32m--> 703\u001b[0m r \u001b[38;5;241m=\u001b[39m \u001b[43madapter\u001b[49m\u001b[38;5;241;43m.\u001b[39;49m\u001b[43msend\u001b[49m\u001b[43m(\u001b[49m\u001b[43mrequest\u001b[49m\u001b[43m,\u001b[49m\u001b[43m \u001b[49m\u001b[38;5;241;43m*\u001b[39;49m\u001b[38;5;241;43m*\u001b[39;49m\u001b[43mkwargs\u001b[49m\u001b[43m)\u001b[49m\n\u001b[1;32m    705\u001b[0m \u001b[38;5;66;03m# Total elapsed time of the request (approximately)\u001b[39;00m\n\u001b[1;32m    706\u001b[0m elapsed \u001b[38;5;241m=\u001b[39m preferred_clock() \u001b[38;5;241m-\u001b[39m start\n",
      "File \u001b[0;32m~/openai_env/lib/python3.9/site-packages/requests/adapters.py:667\u001b[0m, in \u001b[0;36mHTTPAdapter.send\u001b[0;34m(self, request, stream, timeout, verify, cert, proxies)\u001b[0m\n\u001b[1;32m    664\u001b[0m     timeout \u001b[38;5;241m=\u001b[39m TimeoutSauce(connect\u001b[38;5;241m=\u001b[39mtimeout, read\u001b[38;5;241m=\u001b[39mtimeout)\n\u001b[1;32m    666\u001b[0m \u001b[38;5;28;01mtry\u001b[39;00m:\n\u001b[0;32m--> 667\u001b[0m     resp \u001b[38;5;241m=\u001b[39m \u001b[43mconn\u001b[49m\u001b[38;5;241;43m.\u001b[39;49m\u001b[43murlopen\u001b[49m\u001b[43m(\u001b[49m\n\u001b[1;32m    668\u001b[0m \u001b[43m        \u001b[49m\u001b[43mmethod\u001b[49m\u001b[38;5;241;43m=\u001b[39;49m\u001b[43mrequest\u001b[49m\u001b[38;5;241;43m.\u001b[39;49m\u001b[43mmethod\u001b[49m\u001b[43m,\u001b[49m\n\u001b[1;32m    669\u001b[0m \u001b[43m        \u001b[49m\u001b[43murl\u001b[49m\u001b[38;5;241;43m=\u001b[39;49m\u001b[43murl\u001b[49m\u001b[43m,\u001b[49m\n\u001b[1;32m    670\u001b[0m \u001b[43m        \u001b[49m\u001b[43mbody\u001b[49m\u001b[38;5;241;43m=\u001b[39;49m\u001b[43mrequest\u001b[49m\u001b[38;5;241;43m.\u001b[39;49m\u001b[43mbody\u001b[49m\u001b[43m,\u001b[49m\n\u001b[1;32m    671\u001b[0m \u001b[43m        \u001b[49m\u001b[43mheaders\u001b[49m\u001b[38;5;241;43m=\u001b[39;49m\u001b[43mrequest\u001b[49m\u001b[38;5;241;43m.\u001b[39;49m\u001b[43mheaders\u001b[49m\u001b[43m,\u001b[49m\n\u001b[1;32m    672\u001b[0m \u001b[43m        \u001b[49m\u001b[43mredirect\u001b[49m\u001b[38;5;241;43m=\u001b[39;49m\u001b[38;5;28;43;01mFalse\u001b[39;49;00m\u001b[43m,\u001b[49m\n\u001b[1;32m    673\u001b[0m \u001b[43m        \u001b[49m\u001b[43massert_same_host\u001b[49m\u001b[38;5;241;43m=\u001b[39;49m\u001b[38;5;28;43;01mFalse\u001b[39;49;00m\u001b[43m,\u001b[49m\n\u001b[1;32m    674\u001b[0m \u001b[43m        \u001b[49m\u001b[43mpreload_content\u001b[49m\u001b[38;5;241;43m=\u001b[39;49m\u001b[38;5;28;43;01mFalse\u001b[39;49;00m\u001b[43m,\u001b[49m\n\u001b[1;32m    675\u001b[0m \u001b[43m        \u001b[49m\u001b[43mdecode_content\u001b[49m\u001b[38;5;241;43m=\u001b[39;49m\u001b[38;5;28;43;01mFalse\u001b[39;49;00m\u001b[43m,\u001b[49m\n\u001b[1;32m    676\u001b[0m \u001b[43m        \u001b[49m\u001b[43mretries\u001b[49m\u001b[38;5;241;43m=\u001b[39;49m\u001b[38;5;28;43mself\u001b[39;49m\u001b[38;5;241;43m.\u001b[39;49m\u001b[43mmax_retries\u001b[49m\u001b[43m,\u001b[49m\n\u001b[1;32m    677\u001b[0m \u001b[43m        \u001b[49m\u001b[43mtimeout\u001b[49m\u001b[38;5;241;43m=\u001b[39;49m\u001b[43mtimeout\u001b[49m\u001b[43m,\u001b[49m\n\u001b[1;32m    678\u001b[0m \u001b[43m        \u001b[49m\u001b[43mchunked\u001b[49m\u001b[38;5;241;43m=\u001b[39;49m\u001b[43mchunked\u001b[49m\u001b[43m,\u001b[49m\n\u001b[1;32m    679\u001b[0m \u001b[43m    \u001b[49m\u001b[43m)\u001b[49m\n\u001b[1;32m    681\u001b[0m \u001b[38;5;28;01mexcept\u001b[39;00m (ProtocolError, \u001b[38;5;167;01mOSError\u001b[39;00m) \u001b[38;5;28;01mas\u001b[39;00m err:\n\u001b[1;32m    682\u001b[0m     \u001b[38;5;28;01mraise\u001b[39;00m \u001b[38;5;167;01mConnectionError\u001b[39;00m(err, request\u001b[38;5;241m=\u001b[39mrequest)\n",
      "File \u001b[0;32m~/openai_env/lib/python3.9/site-packages/urllib3/connectionpool.py:787\u001b[0m, in \u001b[0;36mHTTPConnectionPool.urlopen\u001b[0;34m(self, method, url, body, headers, retries, redirect, assert_same_host, timeout, pool_timeout, release_conn, chunked, body_pos, preload_content, decode_content, **response_kw)\u001b[0m\n\u001b[1;32m    784\u001b[0m response_conn \u001b[38;5;241m=\u001b[39m conn \u001b[38;5;28;01mif\u001b[39;00m \u001b[38;5;129;01mnot\u001b[39;00m release_conn \u001b[38;5;28;01melse\u001b[39;00m \u001b[38;5;28;01mNone\u001b[39;00m\n\u001b[1;32m    786\u001b[0m \u001b[38;5;66;03m# Make the request on the HTTPConnection object\u001b[39;00m\n\u001b[0;32m--> 787\u001b[0m response \u001b[38;5;241m=\u001b[39m \u001b[38;5;28;43mself\u001b[39;49m\u001b[38;5;241;43m.\u001b[39;49m\u001b[43m_make_request\u001b[49m\u001b[43m(\u001b[49m\n\u001b[1;32m    788\u001b[0m \u001b[43m    \u001b[49m\u001b[43mconn\u001b[49m\u001b[43m,\u001b[49m\n\u001b[1;32m    789\u001b[0m \u001b[43m    \u001b[49m\u001b[43mmethod\u001b[49m\u001b[43m,\u001b[49m\n\u001b[1;32m    790\u001b[0m \u001b[43m    \u001b[49m\u001b[43murl\u001b[49m\u001b[43m,\u001b[49m\n\u001b[1;32m    791\u001b[0m \u001b[43m    \u001b[49m\u001b[43mtimeout\u001b[49m\u001b[38;5;241;43m=\u001b[39;49m\u001b[43mtimeout_obj\u001b[49m\u001b[43m,\u001b[49m\n\u001b[1;32m    792\u001b[0m \u001b[43m    \u001b[49m\u001b[43mbody\u001b[49m\u001b[38;5;241;43m=\u001b[39;49m\u001b[43mbody\u001b[49m\u001b[43m,\u001b[49m\n\u001b[1;32m    793\u001b[0m \u001b[43m    \u001b[49m\u001b[43mheaders\u001b[49m\u001b[38;5;241;43m=\u001b[39;49m\u001b[43mheaders\u001b[49m\u001b[43m,\u001b[49m\n\u001b[1;32m    794\u001b[0m \u001b[43m    \u001b[49m\u001b[43mchunked\u001b[49m\u001b[38;5;241;43m=\u001b[39;49m\u001b[43mchunked\u001b[49m\u001b[43m,\u001b[49m\n\u001b[1;32m    795\u001b[0m \u001b[43m    \u001b[49m\u001b[43mretries\u001b[49m\u001b[38;5;241;43m=\u001b[39;49m\u001b[43mretries\u001b[49m\u001b[43m,\u001b[49m\n\u001b[1;32m    796\u001b[0m \u001b[43m    \u001b[49m\u001b[43mresponse_conn\u001b[49m\u001b[38;5;241;43m=\u001b[39;49m\u001b[43mresponse_conn\u001b[49m\u001b[43m,\u001b[49m\n\u001b[1;32m    797\u001b[0m \u001b[43m    \u001b[49m\u001b[43mpreload_content\u001b[49m\u001b[38;5;241;43m=\u001b[39;49m\u001b[43mpreload_content\u001b[49m\u001b[43m,\u001b[49m\n\u001b[1;32m    798\u001b[0m \u001b[43m    \u001b[49m\u001b[43mdecode_content\u001b[49m\u001b[38;5;241;43m=\u001b[39;49m\u001b[43mdecode_content\u001b[49m\u001b[43m,\u001b[49m\n\u001b[1;32m    799\u001b[0m \u001b[43m    \u001b[49m\u001b[38;5;241;43m*\u001b[39;49m\u001b[38;5;241;43m*\u001b[39;49m\u001b[43mresponse_kw\u001b[49m\u001b[43m,\u001b[49m\n\u001b[1;32m    800\u001b[0m \u001b[43m\u001b[49m\u001b[43m)\u001b[49m\n\u001b[1;32m    802\u001b[0m \u001b[38;5;66;03m# Everything went great!\u001b[39;00m\n\u001b[1;32m    803\u001b[0m clean_exit \u001b[38;5;241m=\u001b[39m \u001b[38;5;28;01mTrue\u001b[39;00m\n",
      "File \u001b[0;32m~/openai_env/lib/python3.9/site-packages/urllib3/connectionpool.py:493\u001b[0m, in \u001b[0;36mHTTPConnectionPool._make_request\u001b[0;34m(self, conn, method, url, body, headers, retries, timeout, chunked, response_conn, preload_content, decode_content, enforce_content_length)\u001b[0m\n\u001b[1;32m    490\u001b[0m \u001b[38;5;66;03m# conn.request() calls http.client.*.request, not the method in\u001b[39;00m\n\u001b[1;32m    491\u001b[0m \u001b[38;5;66;03m# urllib3.request. It also calls makefile (recv) on the socket.\u001b[39;00m\n\u001b[1;32m    492\u001b[0m \u001b[38;5;28;01mtry\u001b[39;00m:\n\u001b[0;32m--> 493\u001b[0m     \u001b[43mconn\u001b[49m\u001b[38;5;241;43m.\u001b[39;49m\u001b[43mrequest\u001b[49m\u001b[43m(\u001b[49m\n\u001b[1;32m    494\u001b[0m \u001b[43m        \u001b[49m\u001b[43mmethod\u001b[49m\u001b[43m,\u001b[49m\n\u001b[1;32m    495\u001b[0m \u001b[43m        \u001b[49m\u001b[43murl\u001b[49m\u001b[43m,\u001b[49m\n\u001b[1;32m    496\u001b[0m \u001b[43m        \u001b[49m\u001b[43mbody\u001b[49m\u001b[38;5;241;43m=\u001b[39;49m\u001b[43mbody\u001b[49m\u001b[43m,\u001b[49m\n\u001b[1;32m    497\u001b[0m \u001b[43m        \u001b[49m\u001b[43mheaders\u001b[49m\u001b[38;5;241;43m=\u001b[39;49m\u001b[43mheaders\u001b[49m\u001b[43m,\u001b[49m\n\u001b[1;32m    498\u001b[0m \u001b[43m        \u001b[49m\u001b[43mchunked\u001b[49m\u001b[38;5;241;43m=\u001b[39;49m\u001b[43mchunked\u001b[49m\u001b[43m,\u001b[49m\n\u001b[1;32m    499\u001b[0m \u001b[43m        \u001b[49m\u001b[43mpreload_content\u001b[49m\u001b[38;5;241;43m=\u001b[39;49m\u001b[43mpreload_content\u001b[49m\u001b[43m,\u001b[49m\n\u001b[1;32m    500\u001b[0m \u001b[43m        \u001b[49m\u001b[43mdecode_content\u001b[49m\u001b[38;5;241;43m=\u001b[39;49m\u001b[43mdecode_content\u001b[49m\u001b[43m,\u001b[49m\n\u001b[1;32m    501\u001b[0m \u001b[43m        \u001b[49m\u001b[43menforce_content_length\u001b[49m\u001b[38;5;241;43m=\u001b[39;49m\u001b[43menforce_content_length\u001b[49m\u001b[43m,\u001b[49m\n\u001b[1;32m    502\u001b[0m \u001b[43m    \u001b[49m\u001b[43m)\u001b[49m\n\u001b[1;32m    504\u001b[0m \u001b[38;5;66;03m# We are swallowing BrokenPipeError (errno.EPIPE) since the server is\u001b[39;00m\n\u001b[1;32m    505\u001b[0m \u001b[38;5;66;03m# legitimately able to close the connection after sending a valid response.\u001b[39;00m\n\u001b[1;32m    506\u001b[0m \u001b[38;5;66;03m# With this behaviour, the received response is still readable.\u001b[39;00m\n\u001b[1;32m    507\u001b[0m \u001b[38;5;28;01mexcept\u001b[39;00m \u001b[38;5;167;01mBrokenPipeError\u001b[39;00m:\n",
      "File \u001b[0;32m~/openai_env/lib/python3.9/site-packages/urllib3/connection.py:444\u001b[0m, in \u001b[0;36mHTTPConnection.request\u001b[0;34m(self, method, url, body, headers, chunked, preload_content, decode_content, enforce_content_length)\u001b[0m\n\u001b[1;32m    442\u001b[0m     \u001b[38;5;28mself\u001b[39m\u001b[38;5;241m.\u001b[39mputheader(\u001b[38;5;124m\"\u001b[39m\u001b[38;5;124mUser-Agent\u001b[39m\u001b[38;5;124m\"\u001b[39m, _get_default_user_agent())\n\u001b[1;32m    443\u001b[0m \u001b[38;5;28;01mfor\u001b[39;00m header, value \u001b[38;5;129;01min\u001b[39;00m headers\u001b[38;5;241m.\u001b[39mitems():\n\u001b[0;32m--> 444\u001b[0m     \u001b[38;5;28;43mself\u001b[39;49m\u001b[38;5;241;43m.\u001b[39;49m\u001b[43mputheader\u001b[49m\u001b[43m(\u001b[49m\u001b[43mheader\u001b[49m\u001b[43m,\u001b[49m\u001b[43m \u001b[49m\u001b[43mvalue\u001b[49m\u001b[43m)\u001b[49m\n\u001b[1;32m    445\u001b[0m \u001b[38;5;28mself\u001b[39m\u001b[38;5;241m.\u001b[39mendheaders()\n\u001b[1;32m    447\u001b[0m \u001b[38;5;66;03m# If we're given a body we start sending that in chunks.\u001b[39;00m\n",
      "File \u001b[0;32m~/openai_env/lib/python3.9/site-packages/urllib3/connection.py:358\u001b[0m, in \u001b[0;36mHTTPConnection.putheader\u001b[0;34m(self, header, *values)\u001b[0m\n\u001b[1;32m    356\u001b[0m \u001b[38;5;250m\u001b[39m\u001b[38;5;124;03m\"\"\"\"\"\"\u001b[39;00m\n\u001b[1;32m    357\u001b[0m \u001b[38;5;28;01mif\u001b[39;00m \u001b[38;5;129;01mnot\u001b[39;00m \u001b[38;5;28many\u001b[39m(\u001b[38;5;28misinstance\u001b[39m(v, \u001b[38;5;28mstr\u001b[39m) \u001b[38;5;129;01mand\u001b[39;00m v \u001b[38;5;241m==\u001b[39m SKIP_HEADER \u001b[38;5;28;01mfor\u001b[39;00m v \u001b[38;5;129;01min\u001b[39;00m values):\n\u001b[0;32m--> 358\u001b[0m     \u001b[38;5;28;43msuper\u001b[39;49m\u001b[43m(\u001b[49m\u001b[43m)\u001b[49m\u001b[38;5;241;43m.\u001b[39;49m\u001b[43mputheader\u001b[49m\u001b[43m(\u001b[49m\u001b[43mheader\u001b[49m\u001b[43m,\u001b[49m\u001b[43m \u001b[49m\u001b[38;5;241;43m*\u001b[39;49m\u001b[43mvalues\u001b[49m\u001b[43m)\u001b[49m\n\u001b[1;32m    359\u001b[0m \u001b[38;5;28;01melif\u001b[39;00m to_str(header\u001b[38;5;241m.\u001b[39mlower()) \u001b[38;5;129;01mnot\u001b[39;00m \u001b[38;5;129;01min\u001b[39;00m SKIPPABLE_HEADERS:\n\u001b[1;32m    360\u001b[0m     skippable_headers \u001b[38;5;241m=\u001b[39m \u001b[38;5;124m\"\u001b[39m\u001b[38;5;124m'\u001b[39m\u001b[38;5;124m, \u001b[39m\u001b[38;5;124m'\u001b[39m\u001b[38;5;124m\"\u001b[39m\u001b[38;5;241m.\u001b[39mjoin(\n\u001b[1;32m    361\u001b[0m         [\u001b[38;5;28mstr\u001b[39m\u001b[38;5;241m.\u001b[39mtitle(header) \u001b[38;5;28;01mfor\u001b[39;00m header \u001b[38;5;129;01min\u001b[39;00m \u001b[38;5;28msorted\u001b[39m(SKIPPABLE_HEADERS)]\n\u001b[1;32m    362\u001b[0m     )\n",
      "File \u001b[0;32m/usr/lib/python3.9/http/client.py:1258\u001b[0m, in \u001b[0;36mHTTPConnection.putheader\u001b[0;34m(self, header, *values)\u001b[0m\n\u001b[1;32m   1256\u001b[0m \u001b[38;5;28;01mfor\u001b[39;00m i, one_value \u001b[38;5;129;01min\u001b[39;00m \u001b[38;5;28menumerate\u001b[39m(values):\n\u001b[1;32m   1257\u001b[0m     \u001b[38;5;28;01mif\u001b[39;00m \u001b[38;5;28mhasattr\u001b[39m(one_value, \u001b[38;5;124m'\u001b[39m\u001b[38;5;124mencode\u001b[39m\u001b[38;5;124m'\u001b[39m):\n\u001b[0;32m-> 1258\u001b[0m         values[i] \u001b[38;5;241m=\u001b[39m \u001b[43mone_value\u001b[49m\u001b[38;5;241;43m.\u001b[39;49m\u001b[43mencode\u001b[49m\u001b[43m(\u001b[49m\u001b[38;5;124;43m'\u001b[39;49m\u001b[38;5;124;43mlatin-1\u001b[39;49m\u001b[38;5;124;43m'\u001b[39;49m\u001b[43m)\u001b[49m\n\u001b[1;32m   1259\u001b[0m     \u001b[38;5;28;01melif\u001b[39;00m \u001b[38;5;28misinstance\u001b[39m(one_value, \u001b[38;5;28mint\u001b[39m):\n\u001b[1;32m   1260\u001b[0m         values[i] \u001b[38;5;241m=\u001b[39m \u001b[38;5;28mstr\u001b[39m(one_value)\u001b[38;5;241m.\u001b[39mencode(\u001b[38;5;124m'\u001b[39m\u001b[38;5;124mascii\u001b[39m\u001b[38;5;124m'\u001b[39m)\n",
      "\u001b[0;31mUnicodeEncodeError\u001b[0m: 'latin-1' codec can't encode characters in position 0-5: ordinal not in range(256)"
     ]
    }
   ],
   "source": [
    "import requests\n",
    "import json\n",
    "\n",
    "# ✅ 登入取得正式帳戶 CST & X-SECURITY-TOKEN\n",
    "def login():\n",
    "    url = \"https://api.ig.com/gateway/deal/session\"\n",
    "    headers = {\n",
    "        \"X-IG-API-KEY\": \"👉填你的正式 API Key\",\n",
    "        \"Content-Type\": \"application/json\",\n",
    "        \"Accept\": \"application/json\"\n",
    "    }\n",
    "    payload = {\n",
    "        \"identifier\": \"👉你的帳號\",\n",
    "        \"password\": \"👉你的密碼\"\n",
    "    }\n",
    "\n",
    "    response = requests.post(url, headers=headers, json=payload)\n",
    "\n",
    "    if response.status_code == 200:\n",
    "        cst = response.headers.get(\"CST\")\n",
    "        x_token = response.headers.get(\"X-SECURITY-TOKEN\")\n",
    "        print(\"✅ 登入成功！\")\n",
    "        print(\"CST:\", cst)\n",
    "        print(\"X-SECURITY-TOKEN:\", x_token)\n",
    "        return cst, x_token\n",
    "    else:\n",
    "        print(\"❌ 登入失敗\", response.status_code, response.text)\n",
    "        return None, None\n",
    "\n",
    "# ✅ 發送正式下單指令\n",
    "def place_order(api_key, cst, x_security_token, account_id):\n",
    "    url = \"https://api.ig.com/gateway/deal/positions/otc\"\n",
    "    headers = {\n",
    "        \"X-IG-API-KEY\": api_key,\n",
    "        \"CST\": cst,\n",
    "        \"X-SECURITY-TOKEN\": x_security_token,\n",
    "        \"Content-Type\": \"application/json\",\n",
    "        \"Version\": \"2\"\n",
    "    }\n",
    "\n",
    "    payload = {\n",
    "        \"epic\": \"CS.D.CFDGOLD.CFDGC.IP\",\n",
    "        \"expiry\": \"-\",  # ✅ 正式帳戶 CFD expiry 記得是 \"-\"\n",
    "        \"direction\": \"BUY\",\n",
    "        \"size\": 0.5,\n",
    "        \"orderType\": \"MARKET\",\n",
    "        \"quoteId\": None,\n",
    "        \"guaranteedStop\": False,\n",
    "        \"forceOpen\": True,\n",
    "        \"currencyCode\": \"USD\",\n",
    "        \"accountId\": account_id\n",
    "    }\n",
    "\n",
    "    print(\"📨 正在發送正式倉下單請求中...\")\n",
    "    response = requests.post(url, headers=headers, data=json.dumps(payload))\n",
    "\n",
    "    if response.status_code == 200:\n",
    "        data = response.json()\n",
    "        deal_reference = data.get(\"dealReference\")\n",
    "        print(\"✅ 下單成功！參考代碼：\", deal_reference)\n",
    "        return deal_reference\n",
    "    else:\n",
    "        print(\"❌ 下單失敗\", response.status_code)\n",
    "        print(response.text)\n",
    "        return None\n",
    "\n",
    "# ✅ 查詢正式訂單狀態\n",
    "def check_order_status(api_key, cst, x_security_token, deal_reference):\n",
    "    url = f\"https://api.ig.com/gateway/deal/confirms/{deal_reference}\"\n",
    "    headers = {\n",
    "        \"X-IG-API-KEY\": api_key,\n",
    "        \"CST\": cst,\n",
    "        \"X-SECURITY-TOKEN\": x_security_token,\n",
    "        \"Version\": \"1\",\n",
    "        \"Accept\": \"application/json\"\n",
    "    }\n",
    "\n",
    "    print(\"🔍 查詢訂單狀態中...\")\n",
    "    response = requests.get(url, headers=headers)\n",
    "\n",
    "    if response.status_code == 200:\n",
    "        data = response.json()\n",
    "        print(\"📦 訂單狀態：\")\n",
    "        print(json.dumps(data, indent=2))\n",
    "    else:\n",
    "        print(\"❌ 查詢失敗\", response.status_code, response.text)\n",
    "\n",
    "# ✅ 主流程執行\n",
    "api_key = \"👉你的 API Key\"\n",
    "account_id = \"👉你的正式帳戶 ID\"\n",
    "\n",
    "cst, x_token = login()\n",
    "if cst and x_token:\n",
    "    deal_ref = place_order(api_key, cst, x_token, account_id)\n",
    "    if deal_ref:\n",
    "        check_order_status(api_key, cst, x_token, deal_ref)\n"
   ]
  },
  {
   "cell_type": "code",
   "execution_count": null,
   "id": "4e0a3af8-f5f0-439e-b23f-95f8cd020fc6",
   "metadata": {},
   "outputs": [],
   "source": []
  }
 ],
 "metadata": {
  "kernelspec": {
   "display_name": "Python (openai_env)",
   "language": "python",
   "name": "openai_env"
  },
  "language_info": {
   "codemirror_mode": {
    "name": "ipython",
    "version": 3
   },
   "file_extension": ".py",
   "mimetype": "text/x-python",
   "name": "python",
   "nbconvert_exporter": "python",
   "pygments_lexer": "ipython3",
   "version": "3.9.21"
  }
 },
 "nbformat": 4,
 "nbformat_minor": 5
}
